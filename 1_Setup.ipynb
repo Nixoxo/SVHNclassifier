{
 "cells": [
  {
   "cell_type": "markdown",
   "metadata": {},
   "source": [
    "# Deep Learning Project\n",
    "\n",
    "In the first step the setup for the project will be done. The necessary data is download from the offical SVHN dataset distribution side and is saved as pickle file."
   ]
  },
  {
   "cell_type": "code",
   "execution_count": 1,
   "metadata": {
    "collapsed": false
   },
   "outputs": [
    {
     "name": "stderr",
     "output_type": "stream",
     "text": [
      "/home/axtmann/anaconda2/lib/python2.7/site-packages/matplotlib/font_manager.py:273: UserWarning: Matplotlib is building the font cache using fc-list. This may take a moment.\n",
      "  warnings.warn('Matplotlib is building the font cache using fc-list. This may take a moment.')\n"
     ]
    }
   ],
   "source": [
    "from __future__ import print_function\n",
    "import matplotlib.pyplot as plt\n",
    "import numpy as np\n",
    "import os, struct\n",
    "import array\n",
    "import sys\n",
    "import tarfile\n",
    "from IPython.display import display, Image\n",
    "from scipy import ndimage\n",
    "from sklearn.linear_model import LogisticRegression\n",
    "from six.moves.urllib.request import urlretrieve\n",
    "from six.moves import cPickle as pickle\n",
    "import scipy.io as sio\n",
    "%matplotlib inline"
   ]
  },
  {
   "cell_type": "code",
   "execution_count": 2,
   "metadata": {
    "collapsed": true
   },
   "outputs": [],
   "source": [
    "#Code block for downloading the dataset from the SVHN site.\n",
    "url = 'http://ufldl.stanford.edu/housenumbers/'\n",
    "last_percent_reported = None\n",
    "\n",
    "def download_progress_hook(count, blockSize, totalSize):\n",
    "  \"\"\"A hook to report the progress of a download. This is mostly intended for users with\n",
    "  slow internet connections. Reports every 1% change in download progress.\n",
    "  \"\"\"\n",
    "  global last_percent_reported\n",
    "  percent = int(count * blockSize * 100 / totalSize)\n",
    "\n",
    "  if last_percent_reported != percent:\n",
    "    if percent % 5 == 0:\n",
    "      sys.stdout.write(\"%s%%\" % percent)\n",
    "      sys.stdout.flush()\n",
    "    else:\n",
    "      sys.stdout.write(\".\")\n",
    "      sys.stdout.flush()\n",
    "      \n",
    "    last_percent_reported = percent\n",
    "        \n",
    "def maybe_download(filename, expected_bytes, force=False):\n",
    "  \"\"\"Download a file if not present, and make sure it's the right size.\"\"\"\n",
    "  if force or not os.path.exists(filename):\n",
    "    print('Attempting to download:', filename) \n",
    "    filename, _ = urlretrieve(url + filename, filename, reporthook=download_progress_hook)\n",
    "    print('\\nDownload Complete!')\n",
    "  statinfo = os.stat(filename)\n",
    "  if statinfo.st_size == expected_bytes:\n",
    "    print('Found and verified', filename)\n",
    "  else:\n",
    "    raise Exception(\n",
    "      'Failed to verify ' + filename + '. Can you get to it with a browser?')\n",
    "  return filename"
   ]
  },
  {
   "cell_type": "code",
   "execution_count": 3,
   "metadata": {
    "collapsed": false
   },
   "outputs": [
    {
     "name": "stdout",
     "output_type": "stream",
     "text": [
      "Attempting to download: train.tar.gz\n",
      "0%....5%....10%....15%....20%....25%....30%....35%....40%....45%....50%....55%....60%....65%....70%....75%....80%....85%....90%....95%....100%\n",
      "Download Complete!\n",
      "Found and verified train.tar.gz\n",
      "Attempting to download: test.tar.gz\n",
      "0%....5%....10%....15%....20%....25%....30%....35%....40%....45%....50%....55%....60%....65%....70%....75%....80%....85%....90%....95%....100%\n",
      "Download Complete!\n",
      "Found and verified test.tar.gz\n",
      "Attempting to download: extra.tar.gz\n",
      "0%....5%....10%....15%....20%....25%....30%....35%....40%....45%....50%....55%....60%....65%....70%....75%....80%....85%....90%....95%....100%\n",
      "Download Complete!\n",
      "Found and verified extra.tar.gz\n",
      "Attempting to download: train_32x32.mat\n",
      "0%....5%....10%....15%....20%....25%....30%....35%....40%....45%....50%....55%....60%....65%....70%....75%....80%....85%....90%....95%....100%\n",
      "Download Complete!\n",
      "Found and verified train_32x32.mat\n",
      "Attempting to download: test_32x32.mat\n",
      "0%....5%....10%....15%....20%....25%....30%....35%....40%....45%....50%....55%....60%....65%....70%....75%....80%....85%....90%....95%....100%\n",
      "Download Complete!\n",
      "Found and verified test_32x32.mat\n",
      "Data setup finished\n"
     ]
    }
   ],
   "source": [
    "\"\"\"\n",
    "In this code block the file names of the SVHN download files are specified\n",
    "and will be download. Also the size of the files will be checked to be \n",
    "correctly.\n",
    "\"\"\"\n",
    "train_filename = 'train.tar.gz'\n",
    "test_filename = 'test.tar.gz'\n",
    "extra_filename = 'extra.tar.gz'\n",
    "train_32x32_filename = 'train_32x32.mat'\n",
    "test_32x32_filename = 'test_32x32.mat'\n",
    "\n",
    "maybe_download(train_filename, 404141560)\n",
    "maybe_download(test_filename, 276555967)\n",
    "maybe_download(extra_filename, 1955489752)\n",
    "maybe_download(train_32x32_filename, 182040794)\n",
    "maybe_download(test_32x32_filename, 64275384)\n",
    "print(\"Data setup finished\")"
   ]
  },
  {
   "cell_type": "code",
   "execution_count": 4,
   "metadata": {
    "collapsed": false
   },
   "outputs": [
    {
     "name": "stdout",
     "output_type": "stream",
     "text": [
      "Extracting data for train. This may take a while. Please wait.\n",
      "digitstruct.mat / labeling of the dataset is missing\n",
      "Extracting data for test. This may take a while. Please wait.\n",
      "digitstruct.mat / labeling of the dataset is missing\n",
      "Extracting data for extra. This may take a while. Please wait.\n",
      "digitstruct.mat / labeling of the dataset is missing\n"
     ]
    }
   ],
   "source": [
    "num_classes = 10\n",
    "np.random.seed(133)\n",
    "\n",
    "\n",
    "\"\"\"\n",
    "This method unzips the download archive files.\n",
    "\"\"\"\n",
    "def maybe_extract(filename, force=False):\n",
    "  root = os.path.splitext(os.path.splitext(filename)[0])[0]  # remove .tar.gz\n",
    "  if os.path.isdir(root) and not force:\n",
    "    # You may override by setting force=True.\n",
    "    print('%s already present - Skipping extraction of %s.' % (root, filename))\n",
    "  else:\n",
    "    print('Extracting data for %s. This may take a while. Please wait.' % root)\n",
    "    tar = tarfile.open(filename)\n",
    "    sys.stdout.flush()\n",
    "    tar.extractall()\n",
    "    tar.close()\n",
    "  if not os.path.exists(root+'/digitstruct.mat'):\n",
    "    print('digitstruct.mat / labeling of the dataset is missing')\n",
    "\n",
    "  \n",
    "maybe_extract(train_filename)\n",
    "maybe_extract(test_filename)\n",
    "maybe_extract(extra_filename)"
   ]
  },
  {
   "cell_type": "code",
   "execution_count": 5,
   "metadata": {
    "collapsed": false
   },
   "outputs": [
    {
     "name": "stdout",
     "output_type": "stream",
     "text": [
      "Everything okay with file train_32x32.mat\n",
      "Everything okay with file test_32x32.mat\n"
     ]
    }
   ],
   "source": [
    "\"\"\"\n",
    "The downloaded mats will be checked to be correctly.\n",
    "\"\"\"\n",
    "def checkMat(mat):\n",
    "    data = sio.loadmat(mat)\n",
    "    Y = data['y']\n",
    "    \n",
    "    if not len(np.unique(Y) == num_classes):\n",
    "        print('something with the num classes is broken')\n",
    "    else:\n",
    "        print('Everything okay with file ' +mat)\n",
    "    \n",
    "\n",
    "checkMat(train_32x32_filename)\n",
    "checkMat(test_32x32_filename)\n"
   ]
  }
 ],
 "metadata": {
  "anaconda-cloud": {},
  "kernelspec": {
   "display_name": "Python 2",
   "language": "python",
   "name": "python2"
  },
  "language_info": {
   "codemirror_mode": {
    "name": "ipython",
    "version": 2
   },
   "file_extension": ".py",
   "mimetype": "text/x-python",
   "name": "python",
   "nbconvert_exporter": "python",
   "pygments_lexer": "ipython2",
   "version": "2.7.11"
  }
 },
 "nbformat": 4,
 "nbformat_minor": 0
}
