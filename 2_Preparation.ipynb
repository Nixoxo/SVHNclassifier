{
 "cells": [
  {
   "cell_type": "code",
   "execution_count": 1,
   "metadata": {
    "collapsed": true
   },
   "outputs": [],
   "source": [
    "%matplotlib inline\n",
    "import matplotlib.pyplot as plt\n",
    "import numpy as np\n",
    "import scipy.io as sio\n",
    "import h5py\n",
    "import os\n",
    "from six.moves import cPickle as pickle"
   ]
  },
  {
   "cell_type": "markdown",
   "metadata": {},
   "source": [
    "## Load Mat\n",
    "Firstly we have to load the digitStruct.mat and prepare it for the analysis."
   ]
  },
  {
   "cell_type": "code",
   "execution_count": 2,
   "metadata": {
    "collapsed": false
   },
   "outputs": [
    {
     "name": "stdout",
     "output_type": "stream",
     "text": [
      "(33402, 1)\n"
     ]
    }
   ],
   "source": [
    "train_digitStruct = h5py.File('train/digitStruct.mat')\n",
    "print(train_digitStruct['digitStruct']['bbox'].shape)"
   ]
  },
  {
   "cell_type": "markdown",
   "metadata": {},
   "source": [
    "The file has 33402 entries. In the next step, I will create some helper methods to read the attributes of every images like name, label, top, left, width and height."
   ]
  },
  {
   "cell_type": "code",
   "execution_count": 3,
   "metadata": {
    "collapsed": true
   },
   "outputs": [],
   "source": [
    "#Helper Methods to read attributes of digitStruct.mat\n",
    "def getSingleAttribute(struct, index, attr):\n",
    "    attribute = struct[struct['digitStruct']['bbox'][index][0]][attr].value.squeeze()\n",
    "    if attribute.dtype == 'float64':\n",
    "        return attribute.reshape(-1)\n",
    "    else:\n",
    "        return np.array([struct[x].value for x in attribute]).squeeze()\n",
    "\n",
    "def getName(struct, index):\n",
    "    return struct[struct['digitStruct']['name'][index][0]].value.tostring().replace(\"\\x00\", \"\")\n",
    "\n",
    "def getAttributes(struct, index):\n",
    "    image = getName(struct, index)\n",
    "    label = getSingleAttribute(struct, index, 'label')\n",
    "    for i in range(len(label)):\n",
    "        if label[i] == 10:\n",
    "            label[i] =0\n",
    "    top = getSingleAttribute(struct, index, 'top')\n",
    "    left = getSingleAttribute(struct, index, 'left')\n",
    "    width = getSingleAttribute(struct, index, 'width')\n",
    "    height = getSingleAttribute(struct, index, 'height')\n",
    "    size = len(top)\n",
    "    return image, label, top, left, width, height, size\n",
    "\n"
   ]
  },
  {
   "cell_type": "markdown",
   "metadata": {},
   "source": [
    "Before I extract the features of the dataset, I need to know the max size of each attribute in order to prepare the numpy arrays."
   ]
  },
  {
   "cell_type": "code",
   "execution_count": 4,
   "metadata": {
    "collapsed": false
   },
   "outputs": [
    {
     "data": {
      "text/plain": [
       "\"\\nlabel_minsize = 0\\n\\nfor i in range(33402):\\n    label_length = len(getSingleAttribute(train_digitStruct, i, 'label'))\\n    if label_length > label_minsize:\\n        label_minsize = label_length\\n   \\nprint(label_minsize)\\n\""
      ]
     },
     "execution_count": 4,
     "metadata": {},
     "output_type": "execute_result"
    }
   ],
   "source": [
    "\"\"\"\n",
    "label_minsize = 0\n",
    "\n",
    "for i in range(33402):\n",
    "    label_length = len(getSingleAttribute(train_digitStruct, i, 'label'))\n",
    "    if label_length > label_minsize:\n",
    "        label_minsize = label_length\n",
    "   \n",
    "print(label_minsize)\n",
    "\"\"\""
   ]
  },
  {
   "cell_type": "markdown",
   "metadata": {},
   "source": [
    "Through this analysis we know that we the max array size of each feature is 6."
   ]
  },
  {
   "cell_type": "code",
   "execution_count": 5,
   "metadata": {
    "collapsed": false
   },
   "outputs": [],
   "source": [
    "def openFile(path):\n",
    "    return h5py.File(path)\n",
    "\n",
    "def initDataStructures(size):\n",
    "    images = []\n",
    "    labels = np.zeros(shape=(size, 6), dtype=float)\n",
    "    labels.fill(10)\n",
    "    tops = np.zeros(shape=(size, 6), dtype=float)\n",
    "    lefts = np.zeros(shape=(size, 6), dtype=float)\n",
    "    widths = np.zeros(shape=(size, 6), dtype=float)\n",
    "    heights = np.zeros(shape=(size, 6), dtype=float)\n",
    "    sizes = np.empty(shape=size, dtype=int)\n",
    "    return images, labels, tops, lefts, widths, heights, sizes\n",
    "\n",
    "def processing(indices, digitStruct, start=0):\n",
    "    images, labels, tops, lefts, widths, heights, sizes = initDataStructures(indices)\n",
    "      \n",
    "    for index in range(indices):\n",
    "        updatedIndex = index+start\n",
    "        image, label, top, left, width, height, size = getAttributes(digitStruct, updatedIndex)\n",
    "        images.append(image)\n",
    "        labels[index][:label.shape[0]] = label\n",
    "        tops[index][:top.shape[0]] = top\n",
    "        lefts[index][:left.shape[0]] = left\n",
    "        widths[index][:width.shape[0]] = width\n",
    "        heights[index][:height.shape[0]] = height\n",
    "        sizes[index] = size        \n",
    "        \n",
    "    return images, labels, tops, lefts, widths, heights, sizes\n",
    "\n",
    "def processData(path, validSize=0, predictSize=0, extra=False):\n",
    "    digitStruct = openFile(path)\n",
    "       \n",
    "    if extra == True:\n",
    "        predictData = processing(predictSize, digitStruct, start=validSize)\n",
    "        validData = processing(validSize, digitStruct)\n",
    "        return validData, predictData\n",
    "    else:\n",
    "        indices = digitStruct['digitStruct']['bbox'].shape[0]\n",
    "        images, labels, tops, lefts, widths, heights, sizes = processing(indices, digitStruct)\n",
    "        return images, labels, tops, lefts, widths, heights, sizes"
   ]
  },
  {
   "cell_type": "code",
   "execution_count": 6,
   "metadata": {
    "collapsed": false
   },
   "outputs": [],
   "source": [
    "trainData = processData('train/digitStruct.mat')\n",
    "testData = processData('test/digitStruct.mat')\n",
    "validData, predictData = processData('extra/digitStruct.mat', validSize=15000, predictSize=5000, extra=True)"
   ]
  },
  {
   "cell_type": "code",
   "execution_count": 7,
   "metadata": {
    "collapsed": false
   },
   "outputs": [],
   "source": [
    "def createFeaturesDict(dataset):\n",
    "    return {\n",
    "        'images': dataset[0],\n",
    "        'labels': dataset[1],\n",
    "        'tops': dataset[2],\n",
    "        'lefts': dataset[3],\n",
    "        'widths': dataset[4],\n",
    "        'heights': dataset[5],\n",
    "        'sizes': dataset[6]\n",
    "    }\n",
    "\n",
    "def maybePickle(train, test, valid, predict):\n",
    "    pickleFile = 'svhn.pickle'\n",
    "    if os.path.exists(pickleFile):\n",
    "        print('The file ' + pickleFile + ' is already present.')\n",
    "    else:\n",
    "        print('The file ' + pickleFile + ' will be created.')\n",
    "        data = {\n",
    "            'train': createFeaturesDict(train), \n",
    "            'valid': createFeaturesDict(valid),\n",
    "            'test': createFeaturesDict(test),\n",
    "            'predict' : createFeaturesDict(predict)\n",
    "        }\n",
    "        try:\n",
    "            with open(pickleFile, 'wb') as f:\n",
    "              pickle.dump(data, f, pickle.HIGHEST_PROTOCOL)\n",
    "        except Exception as e:\n",
    "            print('Unable to save data to', pickleFile, ':', e)"
   ]
  },
  {
   "cell_type": "code",
   "execution_count": 8,
   "metadata": {
    "collapsed": false
   },
   "outputs": [
    {
     "name": "stdout",
     "output_type": "stream",
     "text": [
      "The file svhn.pickle will be created.\n"
     ]
    }
   ],
   "source": [
    "maybePickle(trainData, testData, validData, predictData)"
   ]
  }
 ],
 "metadata": {
  "kernelspec": {
   "display_name": "Python 2",
   "language": "python",
   "name": "python2"
  },
  "language_info": {
   "codemirror_mode": {
    "name": "ipython",
    "version": 2
   },
   "file_extension": ".py",
   "mimetype": "text/x-python",
   "name": "python",
   "nbconvert_exporter": "python",
   "pygments_lexer": "ipython2",
   "version": "2.7.11"
  }
 },
 "nbformat": 4,
 "nbformat_minor": 0
}
