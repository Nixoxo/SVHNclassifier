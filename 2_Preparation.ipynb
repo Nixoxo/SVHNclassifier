{
 "cells": [
  {
   "cell_type": "markdown",
   "metadata": {},
   "source": [
    "# Preparation\n",
    "In this notebook the necessary data preparation for further steps will be done. This means to extract the attributes of the digitStruct.mat file and save them as pickle file for further processing."
   ]
  },
  {
   "cell_type": "code",
   "execution_count": 1,
   "metadata": {
    "collapsed": true
   },
   "outputs": [],
   "source": [
    "%matplotlib inline\n",
    "import matplotlib.pyplot as plt\n",
    "import numpy as np\n",
    "import scipy.io as sio\n",
    "import h5py\n",
    "import os\n",
    "from six.moves import cPickle as pickle"
   ]
  },
  {
   "cell_type": "code",
   "execution_count": 2,
   "metadata": {
    "collapsed": false
   },
   "outputs": [
    {
     "name": "stdout",
     "output_type": "stream",
     "text": [
      "(33402, 1)\n"
     ]
    }
   ],
   "source": [
    "train_digitStruct = h5py.File('train/digitStruct.mat')"
   ]
  },
  {
   "cell_type": "code",
   "execution_count": 1,
   "metadata": {
    "collapsed": true
   },
   "outputs": [],
   "source": [
    "\"\"\"\n",
    "Different helper methods to extract the information of the attributes \n",
    "from the digitStruct.mat file\n",
    "\"\"\"\n",
    "\n",
    "# This method return the value of a certain attribute from the digitStruct\n",
    "def getSingleAttribute(struct, index, attr):\n",
    "    attribute = struct[struct['digitStruct']['bbox'][index][0]][attr].value.squeeze()\n",
    "    if attribute.dtype == 'float64':\n",
    "        return attribute.reshape(-1)\n",
    "    else:\n",
    "        return np.array([struct[x].value for x in attribute]).squeeze()\n",
    "\n",
    "# This method returns the name of a image. Also it replaces a certain value with an empty value.\n",
    "def getName(struct, index):\n",
    "    return struct[struct['digitStruct']['name'][index][0]].value.tostring().replace(\"\\x00\", \"\")\n",
    "\n",
    "# This method returns all the attributes of a certain index from the digitStruct.\n",
    "def getAttributes(struct, index):\n",
    "    image = getName(struct, index)\n",
    "    label = getSingleAttribute(struct, index, 'label')\n",
    "    for i in range(len(label)):\n",
    "        if label[i] == 10:\n",
    "            label[i] =0\n",
    "    top = getSingleAttribute(struct, index, 'top')\n",
    "    left = getSingleAttribute(struct, index, 'left')\n",
    "    width = getSingleAttribute(struct, index, 'width')\n",
    "    height = getSingleAttribute(struct, index, 'height')\n",
    "    size = len(top)\n",
    "    return image, label, top, left, width, height, size\n",
    "\n"
   ]
  },
  {
   "cell_type": "code",
   "execution_count": 5,
   "metadata": {
    "collapsed": false
   },
   "outputs": [],
   "source": [
    "# Method to open the .mat file\n",
    "def openFile(path):\n",
    "    return h5py.File(path)\n",
    "\n",
    "# Initialiser of the data structures for storing the values\n",
    "def initDataStructures(size):\n",
    "    images = []\n",
    "    labels = np.zeros(shape=(size, 6), dtype=float)\n",
    "    labels.fill(10)\n",
    "    tops = np.zeros(shape=(size, 6), dtype=float)\n",
    "    lefts = np.zeros(shape=(size, 6), dtype=float)\n",
    "    widths = np.zeros(shape=(size, 6), dtype=float)\n",
    "    heights = np.zeros(shape=(size, 6), dtype=float)\n",
    "    sizes = np.empty(shape=size, dtype=int)\n",
    "    return images, labels, tops, lefts, widths, heights, sizes\n",
    "\n",
    "# This method iterates over the indices of the digitStruct and return the values of the attributes\n",
    "def processing(indices, digitStruct, start=0):\n",
    "    images, labels, tops, lefts, widths, heights, sizes = initDataStructures(indices)\n",
    "      \n",
    "    for index in range(indices):\n",
    "        updatedIndex = index+start\n",
    "        image, label, top, left, width, height, size = getAttributes(digitStruct, updatedIndex)\n",
    "        images.append(image)\n",
    "        labels[index][:label.shape[0]] = label\n",
    "        tops[index][:top.shape[0]] = top\n",
    "        lefts[index][:left.shape[0]] = left\n",
    "        widths[index][:width.shape[0]] = width\n",
    "        heights[index][:height.shape[0]] = height\n",
    "        sizes[index] = size        \n",
    "        \n",
    "    return images, labels, tops, lefts, widths, heights, sizes\n",
    "\n",
    "# This method starts the extracting of the attributes and it creates the valid and predict dataset with the correct size.\n",
    "def processData(path, validSize=0, predictSize=0, extra=False):\n",
    "    digitStruct = openFile(path)\n",
    "       \n",
    "    if extra == True:\n",
    "        predictData = processing(predictSize, digitStruct, start=validSize)\n",
    "        validData = processing(validSize, digitStruct)\n",
    "        return validData, predictData\n",
    "    else:\n",
    "        indices = digitStruct['digitStruct']['bbox'].shape[0]\n",
    "        images, labels, tops, lefts, widths, heights, sizes = processing(indices, digitStruct)\n",
    "        return images, labels, tops, lefts, widths, heights, sizes"
   ]
  },
  {
   "cell_type": "code",
   "execution_count": 6,
   "metadata": {
    "collapsed": false
   },
   "outputs": [],
   "source": [
    "trainData = processData('train/digitStruct.mat')\n",
    "testData = processData('test/digitStruct.mat')\n",
    "validData, predictData = processData('extra/digitStruct.mat', validSize=15000, predictSize=5000, extra=True)"
   ]
  },
  {
   "cell_type": "code",
   "execution_count": 7,
   "metadata": {
    "collapsed": false
   },
   "outputs": [],
   "source": [
    "# saves the features as dictionaries\n",
    "def createFeaturesDict(dataset):\n",
    "    return {\n",
    "        'images': dataset[0],\n",
    "        'labels': dataset[1],\n",
    "        'tops': dataset[2],\n",
    "        'lefts': dataset[3],\n",
    "        'widths': dataset[4],\n",
    "        'heights': dataset[5],\n",
    "        'sizes': dataset[6]\n",
    "    }\n",
    "\n",
    "# The extracted attributes will be saved as pickle files.\n",
    "def maybePickle(train, test, valid, predict):\n",
    "    pickleFile = 'svhn.pickle'\n",
    "    if os.path.exists(pickleFile):\n",
    "        print('The file ' + pickleFile + ' is already present.')\n",
    "    else:\n",
    "        \n",
    "        data = {\n",
    "            'train': createFeaturesDict(train), \n",
    "            'valid': createFeaturesDict(valid),\n",
    "            'test': createFeaturesDict(test),\n",
    "            'predict' : createFeaturesDict(predict)\n",
    "        }\n",
    "        try:\n",
    "            with open(pickleFile, 'wb') as f:\n",
    "                pickle.dump(data, f, pickle.HIGHEST_PROTOCOL)\n",
    "                print('The file ' + pickleFile + ' is created.')\n",
    "        except Exception as e:\n",
    "            print('Unable to save data to', pickleFile, ':', e)"
   ]
  },
  {
   "cell_type": "code",
   "execution_count": 8,
   "metadata": {
    "collapsed": false
   },
   "outputs": [
    {
     "name": "stdout",
     "output_type": "stream",
     "text": [
      "The file svhn.pickle will be created.\n"
     ]
    }
   ],
   "source": [
    "maybePickle(trainData, testData, validData, predictData)"
   ]
  }
 ],
 "metadata": {
  "kernelspec": {
   "display_name": "Python 2",
   "language": "python",
   "name": "python2"
  },
  "language_info": {
   "codemirror_mode": {
    "name": "ipython",
    "version": 2
   },
   "file_extension": ".py",
   "mimetype": "text/x-python",
   "name": "python",
   "nbconvert_exporter": "python",
   "pygments_lexer": "ipython2",
   "version": "2.7.11"
  }
 },
 "nbformat": 4,
 "nbformat_minor": 0
}
