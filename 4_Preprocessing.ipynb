{
 "cells": [
  {
   "cell_type": "code",
   "execution_count": 1,
   "metadata": {
    "collapsed": true
   },
   "outputs": [],
   "source": [
    "import numpy as np\n",
    "from six.moves import cPickle as pickle\n",
    "from scipy import ndimage\n",
    "from scipy.misc import imresize, imsave\n",
    "\n",
    "pixels_width = 32\n",
    "pixels_height = 32\n",
    "file_end = \".png\"\n",
    "pixels_depth = 255.0"
   ]
  },
  {
   "cell_type": "code",
   "execution_count": 2,
   "metadata": {
    "collapsed": false
   },
   "outputs": [],
   "source": [
    "pickleFile = open('svhn.pickle', 'r')\n",
    "data = pickle.load(pickleFile)\n",
    "training = data['train']\n",
    "testing = data['test']\n",
    "valid = data['valid']\n",
    "predict = data['predict']"
   ]
  },
  {
   "cell_type": "code",
   "execution_count": 3,
   "metadata": {
    "collapsed": false
   },
   "outputs": [],
   "source": [
    "def removeZeros(arr):\n",
    "    newarr = []\n",
    "    for index in range(len(arr)):\n",
    "        if arr[index] > 0:\n",
    "            newarr.append(arr[index])\n",
    "    return newarr\n",
    "  \n",
    "def getLeftBound(lefts):\n",
    "    if len(lefts) <= 0:\n",
    "        return 0\n",
    "    return int(min(lefts))\n",
    "\n",
    "def getTopBound(tops):\n",
    "    if len(tops) <= 0:\n",
    "        return 0\n",
    "    return int(min(tops))\n",
    "\n",
    "def getBottomBound(top, heights):\n",
    "    return int(max(heights) + top)\n",
    "\n",
    "def getRightBound(lefts, widths):\n",
    "    if len(lefts) == 0:\n",
    "        left = 0\n",
    "    else:\n",
    "        left = max(lefts)\n",
    "    \n",
    "    if len(widths) == 0:\n",
    "        width = 0\n",
    "    else:\n",
    "        width = np.sum(np.fabs(widths))\n",
    "        \n",
    "    return int(left + width)"
   ]
  },
  {
   "cell_type": "code",
   "execution_count": 4,
   "metadata": {
    "collapsed": false
   },
   "outputs": [],
   "source": [
    "def manipulateImage(path, dataset, index):\n",
    "    name = dataset['images'][index]\n",
    "    imageFile = path + name + file_end\n",
    "    imageData = np.average(ndimage.imread(imageFile),axis=2)\n",
    "    lefts = removeZeros(dataset['lefts'][index])\n",
    "    widths = removeZeros(dataset['widths'][index])\n",
    "    tops = removeZeros(dataset['tops'][index])\n",
    "    heights = removeZeros(dataset['heights'][index])\n",
    "    \n",
    "    left = getLeftBound(lefts)\n",
    "    right = getRightBound(lefts, widths)\n",
    "    top = getTopBound(tops)\n",
    "    if top < 0: top = 0\n",
    "    bottom = getBottomBound(top, heights)\n",
    "    \n",
    "    cutImage = imageData[top:bottom, left:right]\n",
    "    if cutImage.size == 0:\n",
    "        cutImage = imageData\n",
    "    resizedData = imresize(cutImage, (pixels_height, pixels_width))\n",
    "    resizedData = (resizedData.astype(float) - pixels_depth / 2) / pixels_depth\n",
    "    return resizedData\n",
    "\n",
    "def generateNewImages(path, dataset):\n",
    "    indices = dataset['images'].shape[0]\n",
    "    generatedData = np.ndarray(shape=(indices, pixels_height, pixels_width), dtype=np.float32)\n",
    "    counter = 0\n",
    "    for index in range(indices):\n",
    "        image = manipulateImage(path, dataset, index)\n",
    "        generatedData[index, :, :] = image\n",
    "\n",
    "    return generatedData"
   ]
  },
  {
   "cell_type": "code",
   "execution_count": 5,
   "metadata": {
    "collapsed": false,
    "scrolled": true
   },
   "outputs": [],
   "source": [
    "training_X = generateNewImages(\"train/\", training)\n",
    "testing_X = generateNewImages(\"test/\", testing)\n",
    "valid_X = generateNewImages(\"extra/\", valid)\n",
    "predict_X = generateNewImages(\"extra/\", predict)"
   ]
  },
  {
   "cell_type": "code",
   "execution_count": 6,
   "metadata": {
    "collapsed": false
   },
   "outputs": [
    {
     "name": "stdout",
     "output_type": "stream",
     "text": [
      "(33402, 32, 32)\n",
      "(13068, 32, 32)\n",
      "(15000, 32, 32)\n",
      "(5000, 32, 32)\n"
     ]
    }
   ],
   "source": [
    "print(training_X.shape)\n",
    "print(testing_X.shape)\n",
    "print(valid_X.shape)\n",
    "print(predict_X.shape)"
   ]
  },
  {
   "cell_type": "code",
   "execution_count": 10,
   "metadata": {
    "collapsed": true
   },
   "outputs": [],
   "source": [
    "training_Y = training['labels']\n",
    "testing_Y = testing['labels']\n",
    "valid_Y = valid['labels']\n",
    "predict_Y = predict['labels']"
   ]
  },
  {
   "cell_type": "code",
   "execution_count": 8,
   "metadata": {
    "collapsed": false
   },
   "outputs": [
    {
     "data": {
      "text/plain": [
       "array([  1.,   9.,  10.,  10.,  10.,  10.])"
      ]
     },
     "execution_count": 8,
     "metadata": {},
     "output_type": "execute_result"
    }
   ],
   "source": [
    "training_Y[0]"
   ]
  },
  {
   "cell_type": "code",
   "execution_count": 11,
   "metadata": {
    "collapsed": true
   },
   "outputs": [],
   "source": [
    "def createDataLabelDict(X,Y):\n",
    "    return {\n",
    "        'data': X,\n",
    "        'label': Y\n",
    "    }\n",
    "\n",
    "tensorflow_file = 'tensorflow_data.pickle'\n",
    "try:\n",
    "    with open(tensorflow_file, 'wb') as f:\n",
    "        dump = {\n",
    "            'train': createDataLabelDict(training_X, training_Y),\n",
    "            'test': createDataLabelDict(testing_X, testing_Y),\n",
    "            'valid': createDataLabelDict(valid_X, valid_Y),\n",
    "            'predict': createDataLabelDict(predict_X, predict_Y)\n",
    "        }\n",
    "        pickle.dump(dump, f, pickle.HIGHEST_PROTOCOL)\n",
    "except Exception as e:\n",
    "    print('Unable to save data to', tensorflow_file, ':', e)"
   ]
  }
 ],
 "metadata": {
  "anaconda-cloud": {},
  "kernelspec": {
   "display_name": "Python 2",
   "language": "python",
   "name": "python2"
  },
  "language_info": {
   "codemirror_mode": {
    "name": "ipython",
    "version": 2
   },
   "file_extension": ".py",
   "mimetype": "text/x-python",
   "name": "python",
   "nbconvert_exporter": "python",
   "pygments_lexer": "ipython2",
   "version": "2.7.11"
  }
 },
 "nbformat": 4,
 "nbformat_minor": 0
}
