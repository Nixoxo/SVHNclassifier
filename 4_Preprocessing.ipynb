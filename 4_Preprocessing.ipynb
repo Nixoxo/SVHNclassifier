{
 "cells": [
  {
   "cell_type": "markdown",
   "metadata": {},
   "source": [
    "# Preprocessing\n",
    "This notebook processes the extracted data for the training of the model. In order to create the training data for the model the images will be resized without losing the important information. "
   ]
  },
  {
   "cell_type": "code",
   "execution_count": 1,
   "metadata": {
    "collapsed": true
   },
   "outputs": [],
   "source": [
    "import numpy as np\n",
    "from six.moves import cPickle as pickle\n",
    "from scipy import ndimage\n",
    "from scipy.misc import imresize, imsave\n",
    "from PIL import Image\n",
    "\n",
    "# Definitions of the outcome image size\n",
    "pixels_width = 32\n",
    "pixels_height = 32\n",
    "# Pixels\n",
    "pixels_depth = 255.0"
   ]
  },
  {
   "cell_type": "code",
   "execution_count": 2,
   "metadata": {
    "collapsed": false
   },
   "outputs": [],
   "source": [
    "# The stored pickle file is restored.\n",
    "pickleFile = open('svhn.pickle', 'r')\n",
    "data = pickle.load(pickleFile)\n",
    "training = data['train']\n",
    "testing = data['test']\n",
    "valid = data['valid']\n",
    "predict = data['predict']"
   ]
  },
  {
   "cell_type": "code",
   "execution_count": 4,
   "metadata": {
    "collapsed": false
   },
   "outputs": [],
   "source": [
    "# Different helper methods to extract the values from the bounding box\n",
    "\"\"\"\n",
    "This method extracts the zero values of the attributes. \n",
    "It is very important to remoe the zero values, because otherwise,\n",
    "not the correct values of the bounding boxes will be picked.\n",
    "\"\"\"\n",
    "def removeZeros(arr):\n",
    "    newarr = []\n",
    "    for index in range(len(arr)):\n",
    "        if arr[index] > 0:\n",
    "            newarr.append(arr[index])\n",
    "    return newarr\n",
    "  \n",
    "\n",
    "# This method returns the lowest coordinates of the left bound\n",
    "def getLeftBound(lefts):\n",
    "    if len(lefts) <= 0:\n",
    "        return 0\n",
    "    return int(min(lefts))\n",
    "\n",
    "# This method returns the lowest coordinates of the top bound\n",
    "def getTopBound(tops):\n",
    "    if len(tops) <= 0:\n",
    "        return 0\n",
    "    return int(min(tops))\n",
    "\n",
    "# This method returns the coordinates of bottom bound\n",
    "def getBottomBound(top, heights):\n",
    "    return int(max(heights) + top)\n",
    "\n",
    "\n",
    "# This method returns the correct bound of the right bound.\n",
    "def getRightBound(lefts, widths):\n",
    "    if len(lefts) == 0:\n",
    "        left = 0\n",
    "    else:\n",
    "        left = max(lefts)\n",
    "    \n",
    "    if len(widths) == 0:\n",
    "        width = 0\n",
    "    else:\n",
    "        width = np.sum(np.fabs(widths))\n",
    "        \n",
    "    return int(left + width)"
   ]
  },
  {
   "cell_type": "code",
   "execution_count": 5,
   "metadata": {
    "collapsed": false
   },
   "outputs": [],
   "source": [
    "\"\"\"\n",
    "This method is very important for the processing.\n",
    "Firstly the correct bounds are extracted from the images.\n",
    "Then the bounds are used to remove not important information of the image.\n",
    "In the next step, the remaining pixels the image will be resized to 32x32 pixels.\n",
    "In the last step, regularization will take place. This will prevent to outcoming model from overfitting.\n",
    "\"\"\"\n",
    "\n",
    "def manipulateImage(path, dataset, index):\n",
    "    name = dataset['images'][index]\n",
    "    imageFile = path + name\n",
    "    imageData = np.average(ndimage.imread(imageFile),axis=2)\n",
    "    lefts = removeZeros(dataset['lefts'][index])\n",
    "    widths = removeZeros(dataset['widths'][index])\n",
    "    tops = removeZeros(dataset['tops'][index])\n",
    "    heights = removeZeros(dataset['heights'][index])\n",
    "    \n",
    "    left = getLeftBound(lefts)\n",
    "    right = getRightBound(lefts, widths)\n",
    "    top = getTopBound(tops)\n",
    "    if top < 0: top = 0\n",
    "    bottom = getBottomBound(top, heights)\n",
    "    \n",
    "    cutImage = imageData[top:bottom, left:right]\n",
    "    if cutImage.size == 0:\n",
    "        cutImage = imageData\n",
    "    resizedData = imresize(cutImage, (pixels_height, pixels_width))\n",
    "    resizedData = (resizedData.astype(float) - pixels_depth / 2) / pixels_depth\n",
    "    return resizedData\n",
    "\n",
    "\n",
    "# This method creates the processed data and calls the method above.\n",
    "def generateNewImages(path, dataset):\n",
    "    indices = len(dataset['images'])\n",
    "    generatedData = np.ndarray(shape=(indices, pixels_height, pixels_width), dtype=np.float32)\n",
    "    counter = 0\n",
    "    for index in range(indices):\n",
    "        image = manipulateImage(path, dataset, index)\n",
    "        generatedData[index, :, :] = image\n",
    "\n",
    "    return generatedData"
   ]
  },
  {
   "cell_type": "code",
   "execution_count": 6,
   "metadata": {
    "collapsed": false,
    "scrolled": true
   },
   "outputs": [],
   "source": [
    "training_X = generateNewImages(\"train/\", training)\n",
    "testing_X = generateNewImages(\"test/\", testing)\n",
    "valid_X = generateNewImages(\"extra/\", valid)\n",
    "predict_X = generateNewImages(\"extra/\", predict)"
   ]
  },
  {
   "cell_type": "code",
   "execution_count": 8,
   "metadata": {
    "collapsed": true
   },
   "outputs": [],
   "source": [
    "training_Y = training['labels']\n",
    "testing_Y = testing['labels']\n",
    "valid_Y = valid['labels']\n",
    "predict_Y = predict['labels']"
   ]
  },
  {
   "cell_type": "code",
   "execution_count": 10,
   "metadata": {
    "collapsed": true
   },
   "outputs": [],
   "source": [
    "# In the last code section the processed information will be saved into a pickle file.\n",
    "\n",
    "def createDataLabelDict(X,Y):\n",
    "    return {\n",
    "        'data': X,\n",
    "        'label': Y\n",
    "    }\n",
    "\n",
    "tensorflow_file = 'tensorflow_data.pickle'\n",
    "try:\n",
    "    with open(tensorflow_file, 'wb') as f:\n",
    "        dump = {\n",
    "            'train': createDataLabelDict(training_X, training_Y),\n",
    "            'test': createDataLabelDict(testing_X, testing_Y),\n",
    "            'valid': createDataLabelDict(valid_X, valid_Y),\n",
    "            'predict': createDataLabelDict(predict_X, predict_Y)\n",
    "        }\n",
    "        pickle.dump(dump, f, pickle.HIGHEST_PROTOCOL)\n",
    "except Exception as e:\n",
    "    print('Unable to save data to', tensorflow_file, ':', e)"
   ]
  }
 ],
 "metadata": {
  "anaconda-cloud": {},
  "kernelspec": {
   "display_name": "Python 2",
   "language": "python",
   "name": "python2"
  },
  "language_info": {
   "codemirror_mode": {
    "name": "ipython",
    "version": 2
   },
   "file_extension": ".py",
   "mimetype": "text/x-python",
   "name": "python",
   "nbconvert_exporter": "python",
   "pygments_lexer": "ipython2",
   "version": "2.7.11"
  }
 },
 "nbformat": 4,
 "nbformat_minor": 0
}
