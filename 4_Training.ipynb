{
 "cells": [
  {
   "cell_type": "code",
   "execution_count": 1,
   "metadata": {
    "collapsed": false
   },
   "outputs": [],
   "source": [
    "import numpy as np\n",
    "from six.moves import cPickle as pickle\n",
    "import tensorflow as tf\n",
    "\n",
    "pixels_height = 32\n",
    "pixels_width = 32\n",
    "num_labels = 11\n",
    "num_channels = 1 #grayscale"
   ]
  },
  {
   "cell_type": "code",
   "execution_count": 2,
   "metadata": {
    "collapsed": false
   },
   "outputs": [],
   "source": [
    "def getDataAndLabel(dataset):\n",
    "    return dataset['data'], dataset['label']\n",
    "pickleFile = open('tensorflow_data.pickle', 'r')\n",
    "tensorflowData = pickle.load(pickleFile)\n",
    "train_X, train_labels = getDataAndLabel(tensorflowData['train'])\n",
    "test_X, test_labels = getDataAndLabel(tensorflowData['test'])\n",
    "valid_X, valid_labels = getDataAndLabel(tensorflowData['valid'])\n"
   ]
  },
  {
   "cell_type": "code",
   "execution_count": 3,
   "metadata": {
    "collapsed": false
   },
   "outputs": [
    {
     "name": "stdout",
     "output_type": "stream",
     "text": [
      "33402\n",
      "13068\n",
      "15000\n"
     ]
    }
   ],
   "source": [
    "print(len(train_X))\n",
    "print(len(test_X))\n",
    "print(len(valid_X))"
   ]
  },
  {
   "cell_type": "code",
   "execution_count": 4,
   "metadata": {
    "collapsed": false
   },
   "outputs": [
    {
     "name": "stdout",
     "output_type": "stream",
     "text": [
      "('Training set', (33402, 32, 32, 1), (33402, 6))\n",
      "('Validation set', (15000, 32, 32, 1), (15000, 6))\n",
      "('Test set', (13068, 32, 32, 1), (13068, 6))\n"
     ]
    }
   ],
   "source": [
    "def reformatData(X):\n",
    "    return X.reshape(-1, pixels_width, pixels_height, num_channels).astype(np.float32)\n",
    "   \n",
    "\n",
    "train_dataset = reformatData(train_X)\n",
    "valid_dataset = reformatData(valid_X)\n",
    "test_dataset = reformatData(test_X)\n",
    "print('Training set', train_dataset.shape, train_labels.shape)\n",
    "print('Validation set', valid_dataset.shape, valid_labels.shape)\n",
    "print('Test set', test_dataset.shape, test_labels.shape)"
   ]
  },
  {
   "cell_type": "code",
   "execution_count": 18,
   "metadata": {
    "collapsed": false
   },
   "outputs": [],
   "source": [
    "batch_size = 64\n",
    "patch_size = 5\n",
    "\n",
    "depth_1 = 32\n",
    "depth_2 = 64\n",
    "depth_3 = 96\n",
    "num_hidden = 128"
   ]
  },
  {
   "cell_type": "code",
   "execution_count": 6,
   "metadata": {
    "collapsed": true
   },
   "outputs": [],
   "source": [
    "def accuracy(predictions, labels):\n",
    "    return (100.0 * np.sum(np.argmax(predictions, 2).T == labels) / predictions.shape[1] / predictions.shape[0])"
   ]
  },
  {
   "cell_type": "code",
   "execution_count": 24,
   "metadata": {
    "collapsed": false
   },
   "outputs": [
    {
     "data": {
      "text/plain": [
       "4096"
      ]
     },
     "execution_count": 24,
     "metadata": {},
     "output_type": "execute_result"
    }
   ],
   "source": [
    "pixels_width // 4 * pixels_height // 4 * 64"
   ]
  },
  {
   "cell_type": "code",
   "execution_count": 30,
   "metadata": {
    "collapsed": false
   },
   "outputs": [],
   "source": [
    "graph = tf.Graph()\n",
    "with graph.as_default():\n",
    "    # Input data\n",
    "    # Load training, testing and validation data into constants that\n",
    "    # are attached to the graph\n",
    "    tf_train_dataset = tf.placeholder(tf.float32, shape=(batch_size, pixels_width, pixels_height, num_channels))\n",
    "    tf_train_labels = tf.placeholder(tf.int32, shape=(batch_size, 6))\n",
    "    \n",
    "    tf_valid_dataset = tf.constant(valid_dataset)\n",
    "    tf_test_dataset = tf.constant(test_dataset)\n",
    "    \n",
    "    #Conv1\n",
    "    layer1_weights = tf.Variable(tf.truncated_normal([patch_size, patch_size, num_channels, depth_1], stddev=0.1))\n",
    "    layer1_biases = tf.Variable(tf.zeros([depth_1]))\n",
    "    \n",
    "    #Conv2\n",
    "    layer2_weights = tf.Variable(tf.truncated_normal([patch_size, patch_size, pixels_width, depth_2], stddev=0.1))\n",
    "    layer2_biases = tf.Variable(tf.constant(0.1, shape=[depth_2]), dtype=tf.float32)\n",
    "    \n",
    "    #Fully connected 1\n",
    "    layer3_weights = tf.Variable(tf.truncated_normal([pixels_width // 4 * pixels_height // 4 * 64, 512], stddev=0.1, dtype=tf.float32))\n",
    "    layer3_biases = tf.Variable(tf.constant(0.1, shape=[512], dtype=tf.float32))\n",
    "    \n",
    "    #Fully connected 2\n",
    "    layer4_weights = tf.Variable(tf.truncated_normal([512, num_labels], stddev=0.1, dtype=tf.float32))\n",
    "    layer4_biases = tf.Variable(tf.constant(0.1, shape=[num_labels], dtype=tf.float32))\n",
    "    \n",
    "    #model\n",
    "    def model(data, isTrain = False):\n",
    "        conv = tf.nn.conv2d(data, layer1_weights, strides = [1, 1, 1, 1], padding='SAME')\n",
    "        \n",
    "        relu = tf.nn.relu(conv + layer1_biases)\n",
    "        pool = tf.nn.max_pool(relu, ksize=[1, 2, 2, 1], strides=[1, 2, 2, 1], padding ='SAME')\n",
    "        \n",
    "        conv = tf.nn.conv2d(pool, layer2_weights, strides = [1, 1, 1, 1], padding='SAME')\n",
    "        relu = tf.nn.relu(conv + layer2_biases)\n",
    "        pool = tf.nn.max_pool(relu, ksize=[1, 2, 2, 1], strides=[1, 2, 2, 1], padding='SAME')\n",
    "        \n",
    "        shape = pool.get_shape().as_list()\n",
    "        \n",
    "        reshape = tf.reshape(pool, [shape[0], shape[1] * shape[2] * shape[3]])\n",
    "        hidden = tf.nn.relu(tf.matmul(reshape, layer3_weights) + layer3_biases)\n",
    "        \n",
    "        if isTrain == True:\n",
    "            hidden = tf.nn.dropout(hidden, 0.7)\n",
    "        \n",
    "        return tf.matmul(hidden, layer4_weights) + layer4_biases\n",
    "    \n",
    "    logits = model(tf_train_dataset, isTrain=True)\n",
    "    \n",
    "    def getLoss(logit, label):\n",
    "        return tf.reduce_mean(tf.nn.sparse_softmax_cross_entropy_with_logits(logit, label))\n",
    "    \n",
    "    loss = getLoss(logits, tf_train_labels[:,1]) + getLoss(logits, tf_train_labels[:,2]) +\\\n",
    "        getLoss(logits, tf_train_labels[:,3]) + \\\n",
    "        getLoss(logits, tf_train_labels[:,4]) + \\\n",
    "        getLoss(logits, tf_train_labels[:,5])\n",
    "    \n",
    "    # Optimizer.\n",
    "    global_step = tf.Variable(0, trainable=False)\n",
    "    learning_rate = tf.train.exponential_decay(0.001, global_step, 10000, 0.9) \n",
    "    optimizer = tf.train.GradientDescentOptimizer(learning_rate).minimize(loss)\n",
    "\n",
    "    # Prediction for training\n",
    "    train_prediction = tf.pack([tf.nn.softmax(logits),\n",
    "                                tf.nn.softmax(logits),\n",
    "                                tf.nn.softmax(logits), \n",
    "                                tf.nn.softmax(logits), \n",
    "                                tf.nn.softmax(logits)])\n",
    "    \n",
    "    # Prediction for valid\n",
    "    valid_logit = model(tf_valid_dataset)\n",
    "    valid_prediction = tf.pack([tf.nn.softmax(valid_logit),\n",
    "                                tf.nn.softmax(valid_logit),\n",
    "                                tf.nn.softmax(valid_logit),\n",
    "                                tf.nn.softmax(valid_logit),\n",
    "                                tf.nn.softmax(valid_logit)])\n",
    "    # Prediction for test\n",
    "    test_logit = model(tf_test_dataset)\n",
    "    test_prediction = tf.pack([tf.nn.softmax(test_logit), \n",
    "                               tf.nn.softmax(test_logit), \n",
    "                               tf.nn.softmax(test_logit), \n",
    "                               tf.nn.softmax(test_logit), \n",
    "                               tf.nn.softmax(test_logit)])"
   ]
  },
  {
   "cell_type": "code",
   "execution_count": 31,
   "metadata": {
    "collapsed": false
   },
   "outputs": [
    {
     "name": "stdout",
     "output_type": "stream",
     "text": [
      "Initialized\n",
      "Minibatch loss at step 0: 21.305136\n",
      "Minibatch accuracy: 5.3%\n",
      "Validation accuracy: 67.3%\n",
      "Minibatch loss at step 500: 5.131378\n",
      "Minibatch accuracy: 78.8%\n",
      "Validation accuracy: 67.4%\n",
      "Minibatch loss at step 1000: 5.802170\n",
      "Minibatch accuracy: 74.4%\n",
      "Validation accuracy: 67.4%\n",
      "Minibatch loss at step 1500: 5.395030\n",
      "Minibatch accuracy: 77.2%\n",
      "Validation accuracy: 67.4%\n",
      "Minibatch loss at step 2000: 5.910350\n",
      "Minibatch accuracy: 74.1%\n",
      "Validation accuracy: 67.4%\n",
      "Minibatch loss at step 2500: 5.435441\n",
      "Minibatch accuracy: 76.2%\n",
      "Validation accuracy: 67.4%\n",
      "Minibatch loss at step 3000: 5.384787\n",
      "Minibatch accuracy: 76.6%\n",
      "Validation accuracy: 67.4%\n",
      "Minibatch loss at step 3500: 5.869931\n",
      "Minibatch accuracy: 73.8%\n",
      "Validation accuracy: 67.4%\n",
      "Minibatch loss at step 4000: 5.637327\n",
      "Minibatch accuracy: 75.6%\n",
      "Validation accuracy: 67.4%\n",
      "Minibatch loss at step 4500: 5.681083\n",
      "Minibatch accuracy: 75.0%\n",
      "Validation accuracy: 67.4%\n",
      "Minibatch loss at step 5000: 5.865936\n",
      "Minibatch accuracy: 73.8%\n",
      "Validation accuracy: 67.4%\n",
      "Minibatch loss at step 5500: 5.445718\n",
      "Minibatch accuracy: 75.3%\n",
      "Validation accuracy: 67.4%\n",
      "Minibatch loss at step 6000: 5.586259\n",
      "Minibatch accuracy: 75.0%\n",
      "Validation accuracy: 67.4%\n",
      "Minibatch loss at step 6500: 5.367416\n",
      "Minibatch accuracy: 76.6%\n",
      "Validation accuracy: 67.4%\n",
      "Minibatch loss at step 7000: 5.295698\n",
      "Minibatch accuracy: 76.9%\n",
      "Validation accuracy: 67.4%\n",
      "Minibatch loss at step 7500: 5.344482\n",
      "Minibatch accuracy: 76.6%\n",
      "Validation accuracy: 67.4%\n",
      "Minibatch loss at step 8000: 5.201829\n",
      "Minibatch accuracy: 77.2%\n",
      "Validation accuracy: 67.4%\n",
      "Minibatch loss at step 8500: 5.543805\n",
      "Minibatch accuracy: 74.7%\n",
      "Validation accuracy: 67.4%\n",
      "Minibatch loss at step 9000: 5.037976\n",
      "Minibatch accuracy: 77.8%\n",
      "Validation accuracy: 67.4%\n",
      "Minibatch loss at step 9500: 5.247501\n",
      "Minibatch accuracy: 77.5%\n",
      "Validation accuracy: 67.4%\n",
      "Test accuracy: 80.2%\n"
     ]
    }
   ],
   "source": [
    "num_steps = 10000\n",
    "\n",
    "with tf.Session(graph=graph) as session:\n",
    "\n",
    "    tf.initialize_all_variables().run()\n",
    "\n",
    "    print('Initialized')\n",
    "    for step in range(num_steps):\n",
    "        offset = (step * batch_size) % (train_labels.shape[0] - batch_size)\n",
    "        batch_data = train_dataset[offset:(offset + batch_size), :, :, :]\n",
    "        batch_labels = train_labels[offset:(offset + batch_size),:]\n",
    "        feed_dict = {tf_train_dataset : batch_data, tf_train_labels : batch_labels}\n",
    "        _, l, predictions = session.run([optimizer, loss, train_prediction], feed_dict=feed_dict)\n",
    "    \n",
    "        if (step % 500 == 0): \n",
    "            print('Minibatch loss at step %d: %f' % (step, l))\n",
    "            print('Minibatch accuracy: %.1f%%' % accuracy(predictions, batch_labels[:,1:6]))\n",
    "            print('Validation accuracy: %.1f%%' % accuracy(valid_prediction.eval(), valid_labels[:,1:6]))\n",
    "    print('Test accuracy: %.1f%%' % accuracy(test_prediction.eval(), test_labels[:,1:6]))"
   ]
  },
  {
   "cell_type": "code",
   "execution_count": null,
   "metadata": {
    "collapsed": true
   },
   "outputs": [],
   "source": []
  }
 ],
 "metadata": {
  "kernelspec": {
   "display_name": "Python [default]",
   "language": "python",
   "name": "python2"
  },
  "language_info": {
   "codemirror_mode": {
    "name": "ipython",
    "version": 2
   },
   "file_extension": ".py",
   "mimetype": "text/x-python",
   "name": "python",
   "nbconvert_exporter": "python",
   "pygments_lexer": "ipython2",
   "version": "2.7.12"
  }
 },
 "nbformat": 4,
 "nbformat_minor": 0
}
