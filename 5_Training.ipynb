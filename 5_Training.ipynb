{
 "cells": [
  {
   "cell_type": "code",
   "execution_count": 59,
   "metadata": {
    "collapsed": false
   },
   "outputs": [],
   "source": [
    "import numpy as np\n",
    "from six.moves import cPickle as pickle\n",
    "import tensorflow as tf\n",
    "\n",
    "pixels_height = 32\n",
    "pixels_width = 32\n",
    "num_labels = 11\n",
    "num_channels = 1 #grayscale"
   ]
  },
  {
   "cell_type": "code",
   "execution_count": 60,
   "metadata": {
    "collapsed": false
   },
   "outputs": [],
   "source": [
    "def getDataAndLabel(dataset):\n",
    "    return dataset['data'], dataset['label']\n",
    "\n",
    "pickleFile = open('tensorflow_data.pickle', 'r')\n",
    "tensorflowData = pickle.load(pickleFile)\n",
    "train_X, train_labels = getDataAndLabel(tensorflowData['train'])\n",
    "test_X, test_labels = getDataAndLabel(tensorflowData['test'])\n",
    "valid_X, valid_labels = getDataAndLabel(tensorflowData['valid'])\n",
    "predict_X, predict_labels = getDataAndLabel(tensorflowData['predict'])\n"
   ]
  },
  {
   "cell_type": "code",
   "execution_count": 61,
   "metadata": {
    "collapsed": false
   },
   "outputs": [
    {
     "name": "stdout",
     "output_type": "stream",
     "text": [
      "33402\n",
      "13068\n",
      "15000\n"
     ]
    }
   ],
   "source": [
    "print(len(train_X))\n",
    "print(len(test_X))\n",
    "print(len(valid_X))"
   ]
  },
  {
   "cell_type": "code",
   "execution_count": 62,
   "metadata": {
    "collapsed": false
   },
   "outputs": [
    {
     "name": "stdout",
     "output_type": "stream",
     "text": [
      "('Training set', (33402, 32, 32, 1), (33402, 6))\n",
      "('Validation set', (15000, 32, 32, 1), (15000, 6))\n",
      "('Test set', (13068, 32, 32, 1), (13068, 6))\n"
     ]
    }
   ],
   "source": [
    "def reformatData(X):\n",
    "    return X.reshape(-1, pixels_width, pixels_height, num_channels).astype(np.float32)\n",
    "   \n",
    "\n",
    "train_dataset = reformatData(train_X)\n",
    "valid_dataset = reformatData(valid_X)\n",
    "test_dataset = reformatData(test_X)\n",
    "predict_dataset = reformatData(predict_X)\n",
    "print('Training set', train_dataset.shape, train_labels.shape)\n",
    "print('Validation set', valid_dataset.shape, valid_labels.shape)\n",
    "print('Test set', test_dataset.shape, test_labels.shape)"
   ]
  },
  {
   "cell_type": "code",
   "execution_count": 63,
   "metadata": {
    "collapsed": false
   },
   "outputs": [],
   "source": [
    "batch_size = 64\n",
    "patch_size = 5\n",
    "\n",
    "depth_1 = 32\n",
    "depth_2 = 64\n",
    "depth_3 = 96\n",
    "num_hidden = 128"
   ]
  },
  {
   "cell_type": "code",
   "execution_count": 64,
   "metadata": {
    "collapsed": true
   },
   "outputs": [],
   "source": [
    "def accuracy(predictions, labels):\n",
    "    return (100.0 * np.sum(np.argmax(predictions, 2).T == labels) / predictions.shape[1] / predictions.shape[0])"
   ]
  },
  {
   "cell_type": "code",
   "execution_count": 65,
   "metadata": {
    "collapsed": false
   },
   "outputs": [
    {
     "data": {
      "text/plain": [
       "4096"
      ]
     },
     "execution_count": 65,
     "metadata": {},
     "output_type": "execute_result"
    }
   ],
   "source": [
    "pixels_width // 4 * pixels_height // 4 * 64"
   ]
  },
  {
   "cell_type": "code",
   "execution_count": 71,
   "metadata": {
    "collapsed": false
   },
   "outputs": [
    {
     "name": "stdout",
     "output_type": "stream",
     "text": [
      "Tensor(\"pack:0\", shape=(5, 64, 11), dtype=float32)\n"
     ]
    }
   ],
   "source": [
    "graph = tf.Graph()\n",
    "with graph.as_default():\n",
    "    # Input data\n",
    "    # Load training, testing and validation data into constants that\n",
    "    # are attached to the graph\n",
    "    tf_train_dataset = tf.placeholder(tf.float32, shape=(batch_size, pixels_width, pixels_height, num_channels))\n",
    "    tf_train_labels = tf.placeholder(tf.int32, shape=(batch_size, 6))\n",
    "    \n",
    "    tf_valid_dataset = tf.constant(valid_dataset)\n",
    "    tf_test_dataset = tf.constant(test_dataset)\n",
    "        \n",
    "    #Conv1\n",
    "    layer1_weights = tf.Variable(tf.truncated_normal([patch_size, patch_size, num_channels, depth_1], stddev=0.1))\n",
    "    layer1_biases = tf.Variable(tf.zeros([depth_1]))\n",
    "    \n",
    "    #Conv2\n",
    "    layer2_weights = tf.Variable(tf.truncated_normal([patch_size, patch_size, pixels_width, depth_2], stddev=0.1))\n",
    "    layer2_biases = tf.Variable(tf.constant(0.1, shape=[depth_2]), dtype=tf.float32)\n",
    "    \n",
    "    #Fully connected 1\n",
    "    layer3_weights = tf.Variable(tf.truncated_normal([pixels_width // 4 * pixels_height // 4 * 64, 512], stddev=0.1, dtype=tf.float32))\n",
    "    layer3_biases = tf.Variable(tf.constant(0.1, shape=[512], dtype=tf.float32))\n",
    "    \n",
    "    # Output Layer\n",
    "    layer4_weights = tf.Variable(tf.truncated_normal([512, num_labels], stddev=0.1, dtype=tf.float32))\n",
    "    layer4_biases = tf.Variable(tf.constant(0.1, shape=[num_labels], dtype=tf.float32))\n",
    "    \n",
    "    #model\n",
    "    def model(data, isTrain = False):\n",
    "        conv = tf.nn.conv2d(data, layer1_weights, strides = [1, 1, 1, 1], padding='SAME')\n",
    "        \n",
    "        relu = tf.nn.relu(conv + layer1_biases)\n",
    "        pool = tf.nn.max_pool(relu, ksize=[1, 2, 2, 1], strides=[1, 2, 2, 1], padding ='SAME')\n",
    "        \n",
    "        conv = tf.nn.conv2d(pool, layer2_weights, strides = [1, 1, 1, 1], padding='SAME')\n",
    "        relu = tf.nn.relu(conv + layer2_biases)\n",
    "        pool = tf.nn.max_pool(relu, ksize=[1, 2, 2, 1], strides=[1, 2, 2, 1], padding='SAME')\n",
    "        \n",
    "        shape = pool.get_shape().as_list()\n",
    "        \n",
    "        reshape = tf.reshape(pool, [shape[0], shape[1] * shape[2] * shape[3]])\n",
    "        hidden = tf.nn.relu(tf.matmul(reshape, layer3_weights) + layer3_biases)\n",
    "        \n",
    "        if isTrain == True:\n",
    "            hidden = tf.nn.dropout(hidden, 0.7)\n",
    "        \n",
    "        return tf.matmul(hidden, layer4_weights) + layer4_biases\n",
    "    \n",
    "    logits = model(tf_train_dataset, isTrain=True)\n",
    "    \n",
    "    def getLoss(logit, label):\n",
    "        return tf.reduce_mean(tf.nn.sparse_softmax_cross_entropy_with_logits(logit, label))\n",
    "    \n",
    "    loss = getLoss(logits, tf_train_labels[:,1]) + getLoss(logits, tf_train_labels[:,2]) +\\\n",
    "        getLoss(logits, tf_train_labels[:,3]) + getLoss(logits, tf_train_labels[:,4]) +\\\n",
    "        getLoss(logits, tf_train_labels[:,5])\n",
    "    \n",
    "    # Optimizer.\n",
    "    global_step = tf.Variable(0, trainable=False)\n",
    "    learning_rate = tf.train.exponential_decay(0.001, global_step, 10000, 0.9) \n",
    "    optimizer = tf.train.GradientDescentOptimizer(learning_rate).minimize(loss)\n",
    "\n",
    "    # Prediction for training\n",
    "    train_prediction = tf.pack([tf.nn.softmax(logits),\n",
    "                                tf.nn.softmax(logits),\n",
    "                                tf.nn.softmax(logits), \n",
    "                                tf.nn.softmax(logits), \n",
    "                                tf.nn.softmax(logits)])\n",
    "    \n",
    "    # Prediction for valid\n",
    "    valid_logit = model(tf_valid_dataset)\n",
    "    valid_prediction = tf.pack([tf.nn.softmax(valid_logit),\n",
    "                                tf.nn.softmax(valid_logit),\n",
    "                                tf.nn.softmax(valid_logit),\n",
    "                                tf.nn.softmax(valid_logit),\n",
    "                                tf.nn.softmax(valid_logit)])\n",
    "    # Prediction for test\n",
    "    test_logit = model(tf_test_dataset)\n",
    "    test_prediction = tf.pack([tf.nn.softmax(test_logit), \n",
    "                               tf.nn.softmax(test_logit), \n",
    "                               tf.nn.softmax(test_logit), \n",
    "                               tf.nn.softmax(test_logit), \n",
    "                               tf.nn.softmax(test_logit)])    \n",
    "    \n",
    "    # Init saver\n",
    "    saver = tf.train.Saver()\n",
    "    print(train_prediction)\n",
    "    "
   ]
  },
  {
   "cell_type": "code",
   "execution_count": 91,
   "metadata": {
    "collapsed": false
   },
   "outputs": [
    {
     "name": "stdout",
     "output_type": "stream",
     "text": [
      "Initialized\n",
      "Minibatch loss at step 0: 20.675842\n",
      "Minibatch accuracy: 9.4%\n",
      "Validation accuracy: 67.4%\n",
      "[[[  2.28739902e-03   4.53122169e-01   2.56066374e-03 ...,   3.20007950e-01\n",
      "     7.69263308e-04   1.66891500e-01]\n",
      "  [  1.27408111e-05   9.68815684e-01   7.04516540e-04 ...,   2.17782538e-02\n",
      "     2.53313628e-05   4.44902666e-03]\n",
      "  [  2.20399901e-01   1.26327395e-01   1.36783063e-01 ...,   8.28612149e-02\n",
      "     2.53754348e-01   1.43814245e-02]\n",
      "  ..., \n",
      "  [  3.34504480e-03   4.84758884e-01   1.17384396e-01 ...,   2.23970845e-01\n",
      "     1.49500975e-02   1.86939500e-02]\n",
      "  [  6.55274023e-04   1.37996465e-01   8.29475284e-01 ...,   6.23773667e-04\n",
      "     3.49701685e-03   5.72750438e-03]\n",
      "  [  1.27400877e-03   8.18525672e-01   1.18506372e-01 ...,   1.10851591e-02\n",
      "     3.79499630e-04   1.78243443e-02]]\n",
      "\n",
      " [[  2.28739902e-03   4.53122169e-01   2.56066374e-03 ...,   3.20007950e-01\n",
      "     7.69263308e-04   1.66891500e-01]\n",
      "  [  1.27408111e-05   9.68815684e-01   7.04516540e-04 ...,   2.17782538e-02\n",
      "     2.53313628e-05   4.44902666e-03]\n",
      "  [  2.20399901e-01   1.26327395e-01   1.36783063e-01 ...,   8.28612149e-02\n",
      "     2.53754348e-01   1.43814245e-02]\n",
      "  ..., \n",
      "  [  3.34504480e-03   4.84758884e-01   1.17384396e-01 ...,   2.23970845e-01\n",
      "     1.49500975e-02   1.86939500e-02]\n",
      "  [  6.55274023e-04   1.37996465e-01   8.29475284e-01 ...,   6.23773667e-04\n",
      "     3.49701685e-03   5.72750438e-03]\n",
      "  [  1.27400877e-03   8.18525672e-01   1.18506372e-01 ...,   1.10851591e-02\n",
      "     3.79499630e-04   1.78243443e-02]]\n",
      "\n",
      " [[  2.28739902e-03   4.53122169e-01   2.56066374e-03 ...,   3.20007950e-01\n",
      "     7.69263308e-04   1.66891500e-01]\n",
      "  [  1.27408111e-05   9.68815684e-01   7.04516540e-04 ...,   2.17782538e-02\n",
      "     2.53313628e-05   4.44902666e-03]\n",
      "  [  2.20399901e-01   1.26327395e-01   1.36783063e-01 ...,   8.28612149e-02\n",
      "     2.53754348e-01   1.43814245e-02]\n",
      "  ..., \n",
      "  [  3.34504480e-03   4.84758884e-01   1.17384396e-01 ...,   2.23970845e-01\n",
      "     1.49500975e-02   1.86939500e-02]\n",
      "  [  6.55274023e-04   1.37996465e-01   8.29475284e-01 ...,   6.23773667e-04\n",
      "     3.49701685e-03   5.72750438e-03]\n",
      "  [  1.27400877e-03   8.18525672e-01   1.18506372e-01 ...,   1.10851591e-02\n",
      "     3.79499630e-04   1.78243443e-02]]\n",
      "\n",
      " [[  2.28739902e-03   4.53122169e-01   2.56066374e-03 ...,   3.20007950e-01\n",
      "     7.69263308e-04   1.66891500e-01]\n",
      "  [  1.27408111e-05   9.68815684e-01   7.04516540e-04 ...,   2.17782538e-02\n",
      "     2.53313628e-05   4.44902666e-03]\n",
      "  [  2.20399901e-01   1.26327395e-01   1.36783063e-01 ...,   8.28612149e-02\n",
      "     2.53754348e-01   1.43814245e-02]\n",
      "  ..., \n",
      "  [  3.34504480e-03   4.84758884e-01   1.17384396e-01 ...,   2.23970845e-01\n",
      "     1.49500975e-02   1.86939500e-02]\n",
      "  [  6.55274023e-04   1.37996465e-01   8.29475284e-01 ...,   6.23773667e-04\n",
      "     3.49701685e-03   5.72750438e-03]\n",
      "  [  1.27400877e-03   8.18525672e-01   1.18506372e-01 ...,   1.10851591e-02\n",
      "     3.79499630e-04   1.78243443e-02]]\n",
      "\n",
      " [[  2.28739902e-03   4.53122169e-01   2.56066374e-03 ...,   3.20007950e-01\n",
      "     7.69263308e-04   1.66891500e-01]\n",
      "  [  1.27408111e-05   9.68815684e-01   7.04516540e-04 ...,   2.17782538e-02\n",
      "     2.53313628e-05   4.44902666e-03]\n",
      "  [  2.20399901e-01   1.26327395e-01   1.36783063e-01 ...,   8.28612149e-02\n",
      "     2.53754348e-01   1.43814245e-02]\n",
      "  ..., \n",
      "  [  3.34504480e-03   4.84758884e-01   1.17384396e-01 ...,   2.23970845e-01\n",
      "     1.49500975e-02   1.86939500e-02]\n",
      "  [  6.55274023e-04   1.37996465e-01   8.29475284e-01 ...,   6.23773667e-04\n",
      "     3.49701685e-03   5.72750438e-03]\n",
      "  [  1.27400877e-03   8.18525672e-01   1.18506372e-01 ...,   1.10851591e-02\n",
      "     3.79499630e-04   1.78243443e-02]]]\n",
      "Test accuracy: 80.1%\n",
      "Model saved in file: SVHN_MODEL.ckpt\n"
     ]
    }
   ],
   "source": [
    "save_path = \"SVHN_MODEL.ckpt\"\n",
    "num_steps = 10000\n",
    "\n",
    "with tf.Session(graph=graph) as session:\n",
    "\n",
    "    tf.initialize_all_variables().run()\n",
    "\n",
    "    print('Initialized')\n",
    "    for step in range(num_steps):\n",
    "        offset = (step * batch_size) % (train_labels.shape[0] - batch_size)\n",
    "        batch_data = train_dataset[offset:(offset + batch_size), :, :, :]\n",
    "        batch_labels = train_labels[offset:(offset + batch_size),:]\n",
    "        feed_dict = {tf_train_dataset : batch_data, tf_train_labels : batch_labels}\n",
    "        _, l, predictions = session.run([optimizer, loss, train_prediction], feed_dict=feed_dict)\n",
    "    \n",
    "        if (step % 500 == 0): \n",
    "\n",
    "            print('Minibatch loss at step %d: %f' % (step, l))\n",
    "            print('Minibatch accuracy: %.1f%%' % accuracy(predictions, batch_labels[:,1:6]))\n",
    "            print('Validation accuracy: %.1f%%' % accuracy(valid_prediction.eval(), valid_labels[:,1:6]))\n",
    "            print(predictions)\n",
    "            break\n",
    "            \n",
    "    print('Test accuracy: %.1f%%' % accuracy(test_prediction.eval(), test_labels[:,1:6]))\n",
    "    saved = saver.save(session, save_path)\n",
    "    print(\"Model saved in file: %s\" % saved)\n",
    "    "
   ]
  },
  {
   "cell_type": "code",
   "execution_count": 93,
   "metadata": {
    "collapsed": false
   },
   "outputs": [
    {
     "name": "stdout",
     "output_type": "stream",
     "text": [
      "[[[  1.00263875e-04   5.65894833e-03   1.95526220e-02 ...,   2.67071021e-03\n",
      "     8.65365437e-04   9.67706919e-01]\n",
      "  [  1.31708017e-04   2.66676815e-03   9.53477994e-03 ...,   2.03006323e-02\n",
      "     1.27777030e-05   9.31595981e-01]\n",
      "  [  7.52819833e-05   4.52948269e-03   1.50673511e-03 ...,   3.94406170e-03\n",
      "     8.02033173e-05   9.78980660e-01]\n",
      "  ..., \n",
      "  [  3.81913758e-03   3.83738689e-02   7.20241526e-03 ...,   9.87094715e-02\n",
      "     7.84072268e-04   6.10554099e-01]\n",
      "  [  4.16698225e-04   1.23919714e-02   2.95306114e-03 ...,   6.21781033e-03\n",
      "     1.04614859e-03   9.71646488e-01]\n",
      "  [  1.16109470e-04   8.70383158e-03   1.88543685e-02 ...,   3.65398242e-03\n",
      "     1.20819069e-03   9.59482729e-01]]\n",
      "\n",
      " [[  1.00263875e-04   5.65894833e-03   1.95526220e-02 ...,   2.67071021e-03\n",
      "     8.65365437e-04   9.67706919e-01]\n",
      "  [  1.31708017e-04   2.66676815e-03   9.53477994e-03 ...,   2.03006323e-02\n",
      "     1.27777030e-05   9.31595981e-01]\n",
      "  [  7.52819833e-05   4.52948269e-03   1.50673511e-03 ...,   3.94406170e-03\n",
      "     8.02033173e-05   9.78980660e-01]\n",
      "  ..., \n",
      "  [  3.81913758e-03   3.83738689e-02   7.20241526e-03 ...,   9.87094715e-02\n",
      "     7.84072268e-04   6.10554099e-01]\n",
      "  [  4.16698225e-04   1.23919714e-02   2.95306114e-03 ...,   6.21781033e-03\n",
      "     1.04614859e-03   9.71646488e-01]\n",
      "  [  1.16109470e-04   8.70383158e-03   1.88543685e-02 ...,   3.65398242e-03\n",
      "     1.20819069e-03   9.59482729e-01]]\n",
      "\n",
      " [[  1.00263875e-04   5.65894833e-03   1.95526220e-02 ...,   2.67071021e-03\n",
      "     8.65365437e-04   9.67706919e-01]\n",
      "  [  1.31708017e-04   2.66676815e-03   9.53477994e-03 ...,   2.03006323e-02\n",
      "     1.27777030e-05   9.31595981e-01]\n",
      "  [  7.52819833e-05   4.52948269e-03   1.50673511e-03 ...,   3.94406170e-03\n",
      "     8.02033173e-05   9.78980660e-01]\n",
      "  ..., \n",
      "  [  3.81913758e-03   3.83738689e-02   7.20241526e-03 ...,   9.87094715e-02\n",
      "     7.84072268e-04   6.10554099e-01]\n",
      "  [  4.16698225e-04   1.23919714e-02   2.95306114e-03 ...,   6.21781033e-03\n",
      "     1.04614859e-03   9.71646488e-01]\n",
      "  [  1.16109470e-04   8.70383158e-03   1.88543685e-02 ...,   3.65398242e-03\n",
      "     1.20819069e-03   9.59482729e-01]]\n",
      "\n",
      " [[  1.00263875e-04   5.65894833e-03   1.95526220e-02 ...,   2.67071021e-03\n",
      "     8.65365437e-04   9.67706919e-01]\n",
      "  [  1.31708017e-04   2.66676815e-03   9.53477994e-03 ...,   2.03006323e-02\n",
      "     1.27777030e-05   9.31595981e-01]\n",
      "  [  7.52819833e-05   4.52948269e-03   1.50673511e-03 ...,   3.94406170e-03\n",
      "     8.02033173e-05   9.78980660e-01]\n",
      "  ..., \n",
      "  [  3.81913758e-03   3.83738689e-02   7.20241526e-03 ...,   9.87094715e-02\n",
      "     7.84072268e-04   6.10554099e-01]\n",
      "  [  4.16698225e-04   1.23919714e-02   2.95306114e-03 ...,   6.21781033e-03\n",
      "     1.04614859e-03   9.71646488e-01]\n",
      "  [  1.16109470e-04   8.70383158e-03   1.88543685e-02 ...,   3.65398242e-03\n",
      "     1.20819069e-03   9.59482729e-01]]\n",
      "\n",
      " [[  1.00263875e-04   5.65894833e-03   1.95526220e-02 ...,   2.67071021e-03\n",
      "     8.65365437e-04   9.67706919e-01]\n",
      "  [  1.31708017e-04   2.66676815e-03   9.53477994e-03 ...,   2.03006323e-02\n",
      "     1.27777030e-05   9.31595981e-01]\n",
      "  [  7.52819833e-05   4.52948269e-03   1.50673511e-03 ...,   3.94406170e-03\n",
      "     8.02033173e-05   9.78980660e-01]\n",
      "  ..., \n",
      "  [  3.81913758e-03   3.83738689e-02   7.20241526e-03 ...,   9.87094715e-02\n",
      "     7.84072268e-04   6.10554099e-01]\n",
      "  [  4.16698225e-04   1.23919714e-02   2.95306114e-03 ...,   6.21781033e-03\n",
      "     1.04614859e-03   9.71646488e-01]\n",
      "  [  1.16109470e-04   8.70383158e-03   1.88543685e-02 ...,   3.65398242e-03\n",
      "     1.20819069e-03   9.59482729e-01]]]\n"
     ]
    }
   ],
   "source": [
    "save_path = \"SVHN_MODEL.ckpt\"\n",
    "\n",
    "with tf.Session(graph=graph) as session:\n",
    "    saver.restore(session, \"SVHN_MODEL.ckpt\")\n",
    "    predict_prediction = session.run(valid_prediction, feed_dict={tf_train_dataset: train_dataset[:batch_size]})\n",
    "    print(predict_prediction)"
   ]
  },
  {
   "cell_type": "code",
   "execution_count": 88,
   "metadata": {
    "collapsed": false
   },
   "outputs": [
    {
     "name": "stderr",
     "output_type": "stream",
     "text": [
      "/Library/Python/2.7/site-packages/ipykernel/__main__.py:2: DeprecationWarning: elementwise == comparison failed; this will raise an error in the future.\n",
      "  from ipykernel import kernelapp as app\n"
     ]
    },
    {
     "data": {
      "text/plain": [
       "0.0"
      ]
     },
     "execution_count": 88,
     "metadata": {},
     "output_type": "execute_result"
    }
   ],
   "source": [
    "accuracy(predict_prediction, train_labels[:batch_size,:][:,1:6])"
   ]
  },
  {
   "cell_type": "code",
   "execution_count": 92,
   "metadata": {
    "collapsed": false
   },
   "outputs": [
    {
     "data": {
      "text/plain": [
       "array([[[ 0.04975416,  0.06139117,  0.04450435, ...,  0.02834003,\n",
       "          0.04124064,  0.52799922],\n",
       "        [ 0.04905251,  0.02180981,  0.01797231, ...,  0.01548417,\n",
       "          0.01361332,  0.78769958],\n",
       "        [ 0.05135697,  0.04263102,  0.03366616, ...,  0.02934722,\n",
       "          0.02893681,  0.62370181],\n",
       "        ..., \n",
       "        [ 0.01841171,  0.01558601,  0.0162868 , ...,  0.01177461,\n",
       "          0.011048  ,  0.85600013],\n",
       "        [ 0.02134132,  0.0210025 ,  0.01842317, ...,  0.01462692,\n",
       "          0.01431397,  0.82284546],\n",
       "        [ 0.05122636,  0.04419834,  0.03761742, ...,  0.03319253,\n",
       "          0.02682472,  0.62938917]],\n",
       "\n",
       "       [[ 0.04975416,  0.06139117,  0.04450435, ...,  0.02834003,\n",
       "          0.04124064,  0.52799922],\n",
       "        [ 0.04905251,  0.02180981,  0.01797231, ...,  0.01548417,\n",
       "          0.01361332,  0.78769958],\n",
       "        [ 0.05135697,  0.04263102,  0.03366616, ...,  0.02934722,\n",
       "          0.02893681,  0.62370181],\n",
       "        ..., \n",
       "        [ 0.01841171,  0.01558601,  0.0162868 , ...,  0.01177461,\n",
       "          0.011048  ,  0.85600013],\n",
       "        [ 0.02134132,  0.0210025 ,  0.01842317, ...,  0.01462692,\n",
       "          0.01431397,  0.82284546],\n",
       "        [ 0.05122636,  0.04419834,  0.03761742, ...,  0.03319253,\n",
       "          0.02682472,  0.62938917]],\n",
       "\n",
       "       [[ 0.04975416,  0.06139117,  0.04450435, ...,  0.02834003,\n",
       "          0.04124064,  0.52799922],\n",
       "        [ 0.04905251,  0.02180981,  0.01797231, ...,  0.01548417,\n",
       "          0.01361332,  0.78769958],\n",
       "        [ 0.05135697,  0.04263102,  0.03366616, ...,  0.02934722,\n",
       "          0.02893681,  0.62370181],\n",
       "        ..., \n",
       "        [ 0.01841171,  0.01558601,  0.0162868 , ...,  0.01177461,\n",
       "          0.011048  ,  0.85600013],\n",
       "        [ 0.02134132,  0.0210025 ,  0.01842317, ...,  0.01462692,\n",
       "          0.01431397,  0.82284546],\n",
       "        [ 0.05122636,  0.04419834,  0.03761742, ...,  0.03319253,\n",
       "          0.02682472,  0.62938917]],\n",
       "\n",
       "       [[ 0.04975416,  0.06139117,  0.04450435, ...,  0.02834003,\n",
       "          0.04124064,  0.52799922],\n",
       "        [ 0.04905251,  0.02180981,  0.01797231, ...,  0.01548417,\n",
       "          0.01361332,  0.78769958],\n",
       "        [ 0.05135697,  0.04263102,  0.03366616, ...,  0.02934722,\n",
       "          0.02893681,  0.62370181],\n",
       "        ..., \n",
       "        [ 0.01841171,  0.01558601,  0.0162868 , ...,  0.01177461,\n",
       "          0.011048  ,  0.85600013],\n",
       "        [ 0.02134132,  0.0210025 ,  0.01842317, ...,  0.01462692,\n",
       "          0.01431397,  0.82284546],\n",
       "        [ 0.05122636,  0.04419834,  0.03761742, ...,  0.03319253,\n",
       "          0.02682472,  0.62938917]],\n",
       "\n",
       "       [[ 0.04975416,  0.06139117,  0.04450435, ...,  0.02834003,\n",
       "          0.04124064,  0.52799922],\n",
       "        [ 0.04905251,  0.02180981,  0.01797231, ...,  0.01548417,\n",
       "          0.01361332,  0.78769958],\n",
       "        [ 0.05135697,  0.04263102,  0.03366616, ...,  0.02934722,\n",
       "          0.02893681,  0.62370181],\n",
       "        ..., \n",
       "        [ 0.01841171,  0.01558601,  0.0162868 , ...,  0.01177461,\n",
       "          0.011048  ,  0.85600013],\n",
       "        [ 0.02134132,  0.0210025 ,  0.01842317, ...,  0.01462692,\n",
       "          0.01431397,  0.82284546],\n",
       "        [ 0.05122636,  0.04419834,  0.03761742, ...,  0.03319253,\n",
       "          0.02682472,  0.62938917]]], dtype=float32)"
      ]
     },
     "execution_count": 92,
     "metadata": {},
     "output_type": "execute_result"
    }
   ],
   "source": [
    "predict_prediction"
   ]
  }
 ],
 "metadata": {
  "kernelspec": {
   "display_name": "Python 2",
   "language": "python",
   "name": "python2"
  },
  "language_info": {
   "codemirror_mode": {
    "name": "ipython",
    "version": 2
   },
   "file_extension": ".py",
   "mimetype": "text/x-python",
   "name": "python",
   "nbconvert_exporter": "python",
   "pygments_lexer": "ipython2",
   "version": "2.7.11"
  }
 },
 "nbformat": 4,
 "nbformat_minor": 0
}
