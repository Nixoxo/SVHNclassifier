{
 "cells": [
  {
   "cell_type": "code",
   "execution_count": 1,
   "metadata": {
    "collapsed": false
   },
   "outputs": [],
   "source": [
    "import numpy as np\n",
    "from six.moves import cPickle as pickle\n",
    "import tensorflow as tf\n",
    "\n",
    "pixels_height = 32\n",
    "pixels_width = 32\n",
    "num_labels = 11\n",
    "num_channels = 1 #grayscale"
   ]
  },
  {
   "cell_type": "code",
   "execution_count": 2,
   "metadata": {
    "collapsed": false
   },
   "outputs": [],
   "source": [
    "def getDataAndLabel(dataset):\n",
    "    return dataset['data'], dataset['label']\n",
    "\n",
    "pickleFile = open('tensorflow_data.pickle', 'r')\n",
    "tensorflowData = pickle.load(pickleFile)\n",
    "train_X, train_labels = getDataAndLabel(tensorflowData['train'])\n",
    "test_X, test_labels = getDataAndLabel(tensorflowData['test'])\n",
    "valid_X, valid_labels = getDataAndLabel(tensorflowData['valid'])\n",
    "predict_X, predict_labels = getDataAndLabel(tensorflowData['predict'])\n"
   ]
  },
  {
   "cell_type": "code",
   "execution_count": 3,
   "metadata": {
    "collapsed": false
   },
   "outputs": [
    {
     "name": "stdout",
     "output_type": "stream",
     "text": [
      "33402\n",
      "13068\n",
      "15000\n"
     ]
    }
   ],
   "source": [
    "print(len(train_X))\n",
    "print(len(test_X))\n",
    "print(len(valid_X))"
   ]
  },
  {
   "cell_type": "code",
   "execution_count": 4,
   "metadata": {
    "collapsed": false
   },
   "outputs": [
    {
     "name": "stdout",
     "output_type": "stream",
     "text": [
      "('Training set', (33402, 32, 32, 1), (33402, 6))\n",
      "('Validation set', (15000, 32, 32, 1), (15000, 6))\n",
      "('Test set', (13068, 32, 32, 1), (13068, 6))\n"
     ]
    }
   ],
   "source": [
    "def reformatData(X):\n",
    "    return X.reshape(-1, pixels_width, pixels_height, num_channels).astype(np.float32)\n",
    "   \n",
    "\n",
    "train_dataset = reformatData(train_X)\n",
    "valid_dataset = reformatData(valid_X)\n",
    "test_dataset = reformatData(test_X)\n",
    "predict_dataset = reformatData(predict_X)\n",
    "print('Training set', train_dataset.shape, train_labels.shape)\n",
    "print('Validation set', valid_dataset.shape, valid_labels.shape)\n",
    "print('Test set', test_dataset.shape, test_labels.shape)"
   ]
  },
  {
   "cell_type": "code",
   "execution_count": 5,
   "metadata": {
    "collapsed": false
   },
   "outputs": [],
   "source": [
    "batch_size = 64\n",
    "patch_size = 5\n",
    "\n",
    "depth_1 = 32\n",
    "depth_2 = 64\n",
    "depth_3 = 96\n",
    "num_hidden = 128"
   ]
  },
  {
   "cell_type": "code",
   "execution_count": 6,
   "metadata": {
    "collapsed": true
   },
   "outputs": [],
   "source": [
    "def accuracy(predictions, labels):\n",
    "    return (100.0 * np.sum(np.argmax(predictions, 2).T == labels) / predictions.shape[1] / predictions.shape[0])"
   ]
  },
  {
   "cell_type": "code",
   "execution_count": 7,
   "metadata": {
    "collapsed": false
   },
   "outputs": [
    {
     "data": {
      "text/plain": [
       "4096"
      ]
     },
     "execution_count": 7,
     "metadata": {},
     "output_type": "execute_result"
    }
   ],
   "source": [
    "pixels_width // 4 * pixels_height // 4 * 64"
   ]
  },
  {
   "cell_type": "code",
   "execution_count": null,
   "metadata": {
    "collapsed": false
   },
   "outputs": [
    {
     "name": "stdout",
     "output_type": "stream",
     "text": [
      "Tensor(\"pack:0\", shape=(5, 64, 11), dtype=float32)\n"
     ]
    }
   ],
   "source": [
    "graph = tf.Graph()\n",
    "with graph.as_default():\n",
    "    # Input data\n",
    "    # Load training, testing and validation data into constants that\n",
    "    # are attached to the graph\n",
    "    tf_train_dataset = tf.placeholder(tf.float32, shape=(batch_size, pixels_width, pixels_height, num_channels))\n",
    "    tf_train_labels = tf.placeholder(tf.int32, shape=(batch_size, 6))\n",
    "    \n",
    "    tf_valid_dataset = tf.constant(valid_dataset)\n",
    "    tf_test_dataset = tf.constant(test_dataset)\n",
    "        \n",
    "    #Conv1\n",
    "    layer1_weights = tf.Variable(tf.truncated_normal([patch_size, patch_size, num_channels, depth_1], stddev=0.1))\n",
    "    layer1_biases = tf.Variable(tf.zeros([depth_1]))\n",
    "    \n",
    "    #Conv2\n",
    "    layer2_weights = tf.Variable(tf.truncated_normal([patch_size, patch_size, pixels_width, depth_2], stddev=0.1))\n",
    "    layer2_biases = tf.Variable(tf.constant(0.1, shape=[depth_2]), dtype=tf.float32)\n",
    "    \n",
    "    #Fully connected 1\n",
    "    layer3_weights = tf.Variable(tf.truncated_normal([pixels_width // 4 * pixels_height // 4 * 64, 512], stddev=0.1, dtype=tf.float32))\n",
    "    layer3_biases = tf.Variable(tf.constant(0.1, shape=[512], dtype=tf.float32))\n",
    "    \n",
    "    #Outputs\n",
    "    #First classifer\n",
    "    cls1_weights = tf.Variable(tf.truncated_normal([512, num_labels], stddev=0.1, dtype=tf.float32))\n",
    "    cls1_biases = tf.Variable(tf.constant(0.1, shape=[num_labels], dtype=tf.float32))\n",
    "    \n",
    "    #Second classifier\n",
    "    cls2_weights = tf.Variable(tf.truncated_normal([512, num_labels], stddev=0.1, dtype=tf.float32))\n",
    "    cls2_biases = tf.Variable(tf.constant(0.1, shape=[num_labels], dtype=tf.float32))\n",
    "    \n",
    "    #Third classifier\n",
    "    cls3_weights = tf.Variable(tf.truncated_normal([512, num_labels], stddev=0.1, dtype=tf.float32))\n",
    "    cls3_biases = tf.Variable(tf.constant(0.1, shape=[num_labels], dtype=tf.float32))\n",
    "    \n",
    "    #4th classifier\n",
    "    cls4_weights = tf.Variable(tf.truncated_normal([512, num_labels], stddev=0.1, dtype=tf.float32))\n",
    "    cls4_biases = tf.Variable(tf.constant(0.1, shape=[num_labels], dtype=tf.float32))\n",
    "    \n",
    "    #5th classifier\n",
    "    cls5_weights = tf.Variable(tf.truncated_normal([512, num_labels], stddev=0.1, dtype=tf.float32))\n",
    "    cls5_biases = tf.Variable(tf.constant(0.1, shape=[num_labels], dtype=tf.float32))\n",
    "        \n",
    "    #model\n",
    "    def model(data, isTrain = False):\n",
    "        conv = tf.nn.conv2d(data, layer1_weights, strides = [1, 1, 1, 1], padding='SAME')\n",
    "        \n",
    "        relu = tf.nn.relu(conv + layer1_biases)\n",
    "        pool = tf.nn.max_pool(relu, ksize=[1, 2, 2, 1], strides=[1, 2, 2, 1], padding ='SAME')\n",
    "        \n",
    "        conv = tf.nn.conv2d(pool, layer2_weights, strides = [1, 1, 1, 1], padding='SAME')\n",
    "        relu = tf.nn.relu(conv + layer2_biases)\n",
    "        pool = tf.nn.max_pool(relu, ksize=[1, 2, 2, 1], strides=[1, 2, 2, 1], padding='SAME')\n",
    "        \n",
    "        shape = pool.get_shape().as_list()\n",
    "        \n",
    "        reshape = tf.reshape(pool, [shape[0], shape[1] * shape[2] * shape[3]])\n",
    "        hidden = tf.nn.relu(tf.matmul(reshape, layer3_weights) + layer3_biases)\n",
    "        \n",
    "        if isTrain == True:\n",
    "            hidden = tf.nn.dropout(hidden, 0.7)\n",
    "        \n",
    "        logit_cls1 = tf.matmul(hidden, cls1_weights) + cls1_biases\n",
    "        logit_cls2 = tf.matmul(hidden, cls2_weights) + cls2_biases\n",
    "        logit_cls3 = tf.matmul(hidden, cls3_weights) + cls3_biases\n",
    "        logit_cls4 = tf.matmul(hidden, cls4_weights) + cls4_biases\n",
    "        logit_cls5 = tf.matmul(hidden, cls5_weights) + cls5_biases\n",
    "        return logit_cls1, logit_cls2, logit_cls3, logit_cls4, logit_cls5\n",
    "    \n",
    "    logit_cls1, logit_cls2, logit_cls3, logit_cls4, logit_cls5 = model(tf_train_dataset, isTrain=True)\n",
    "    \n",
    "    def getLoss(logit, label):\n",
    "        return tf.reduce_mean(tf.nn.sparse_softmax_cross_entropy_with_logits(logit, label))\n",
    "    \n",
    "    loss = getLoss(logit_cls1, tf_train_labels[:,1]) + getLoss(logit_cls2, tf_train_labels[:,2]) +\\\n",
    "        getLoss(logit_cls3, tf_train_labels[:,3]) + getLoss(logit_cls4, tf_train_labels[:,4]) +\\\n",
    "        getLoss(logit_cls5, tf_train_labels[:,5])\n",
    "    \n",
    "    # Optimizer.\n",
    "    global_step = tf.Variable(0, trainable=False)\n",
    "    learning_rate = tf.train.exponential_decay(0.001, global_step, 10000, 0.9) \n",
    "    optimizer = tf.train.GradientDescentOptimizer(learning_rate).minimize(loss)\n",
    "\n",
    "    # Prediction for training\n",
    "    train_prediction = tf.pack([tf.nn.softmax(logit_cls1),\n",
    "                                tf.nn.softmax(logit_cls2),\n",
    "                                tf.nn.softmax(logit_cls3), \n",
    "                                tf.nn.softmax(logit_cls4), \n",
    "                                tf.nn.softmax(logit_cls5)])\n",
    "\n",
    "    # Prediction for valid\n",
    "    v_logit_cls1, v_logit_cls2, v_logit_cls3, v_logit_cls4, v_logit_cls5 = model(tf_valid_dataset)\n",
    "    valid_prediction = tf.pack([tf.nn.softmax(v_logit_cls1),\n",
    "                                tf.nn.softmax(v_logit_cls2),\n",
    "                                tf.nn.softmax(v_logit_cls3),\n",
    "                                tf.nn.softmax(v_logit_cls4),\n",
    "                                tf.nn.softmax(v_logit_cls5)])\n",
    "    # Prediction for test\n",
    "    t_logit_cls1, t_logit_cls2, t_logit_cls3, t_logit_cls4, t_logit_cls5 = model(tf_test_dataset)\n",
    "    test_prediction = tf.pack([tf.nn.softmax(t_logit_cls1), \n",
    "                               tf.nn.softmax(t_logit_cls2), \n",
    "                               tf.nn.softmax(t_logit_cls3), \n",
    "                               tf.nn.softmax(t_logit_cls4), \n",
    "                               tf.nn.softmax(t_logit_cls5)])    \n",
    "    \n",
    "    # Init saver\n",
    "    saver = tf.train.Saver()\n",
    "    print(train_prediction)\n",
    "    "
   ]
  },
  {
   "cell_type": "code",
   "execution_count": null,
   "metadata": {
    "collapsed": false
   },
   "outputs": [
    {
     "name": "stdout",
     "output_type": "stream",
     "text": [
      "Initialized\n",
      "Minibatch loss at step 0: 22.301987\n",
      "Minibatch accuracy: 4.7%\n",
      "Validation accuracy: 8.8%\n",
      "Minibatch loss at step 500: 3.869110\n",
      "Minibatch accuracy: 77.2%\n",
      "Validation accuracy: 67.9%\n",
      "Minibatch loss at step 1000: 4.087449\n",
      "Minibatch accuracy: 75.3%\n",
      "Validation accuracy: 67.8%\n",
      "Minibatch loss at step 1500: 3.751401\n",
      "Minibatch accuracy: 76.9%\n",
      "Validation accuracy: 68.0%\n",
      "Minibatch loss at step 2000: 4.208406\n",
      "Minibatch accuracy: 75.0%\n",
      "Validation accuracy: 68.0%\n",
      "Minibatch loss at step 2500: 4.287472\n",
      "Minibatch accuracy: 75.9%\n",
      "Validation accuracy: 68.1%\n",
      "Minibatch loss at step 3000: 3.777061\n",
      "Minibatch accuracy: 76.6%\n",
      "Validation accuracy: 68.2%\n",
      "Minibatch loss at step 3500: 4.403471\n",
      "Minibatch accuracy: 73.8%\n",
      "Validation accuracy: 68.3%\n",
      "Minibatch loss at step 4000: 3.962389\n",
      "Minibatch accuracy: 76.6%\n",
      "Validation accuracy: 68.4%\n",
      "Minibatch loss at step 4500: 4.055433\n",
      "Minibatch accuracy: 75.0%\n",
      "Validation accuracy: 68.6%\n",
      "Minibatch loss at step 5000: 4.062010\n",
      "Minibatch accuracy: 75.9%\n",
      "Validation accuracy: 68.9%\n",
      "Minibatch loss at step 5500: 3.880225\n",
      "Minibatch accuracy: 77.5%\n",
      "Validation accuracy: 68.9%\n",
      "Minibatch loss at step 6000: 3.919794\n",
      "Minibatch accuracy: 75.6%\n",
      "Validation accuracy: 68.8%\n",
      "Minibatch loss at step 6500: 3.821587\n",
      "Minibatch accuracy: 78.4%\n",
      "Validation accuracy: 68.9%\n",
      "Minibatch loss at step 7000: 3.540043\n",
      "Minibatch accuracy: 77.5%\n",
      "Validation accuracy: 69.0%\n",
      "Minibatch loss at step 7500: 3.506800\n",
      "Minibatch accuracy: 77.2%\n",
      "Validation accuracy: 68.9%\n",
      "Minibatch loss at step 8000: 3.531670\n",
      "Minibatch accuracy: 77.8%\n",
      "Validation accuracy: 69.1%\n",
      "Minibatch loss at step 8500: 3.986624\n",
      "Minibatch accuracy: 76.6%\n",
      "Validation accuracy: 69.2%\n",
      "Minibatch loss at step 9000: 3.823795\n",
      "Minibatch accuracy: 78.8%\n",
      "Validation accuracy: 69.2%\n",
      "Minibatch loss at step 9500: 3.629844\n",
      "Minibatch accuracy: 78.4%\n",
      "Validation accuracy: 68.9%\n"
     ]
    }
   ],
   "source": [
    "save_path = \"SVHN_MODEL.ckpt\"\n",
    "num_steps = 40000\n",
    "\n",
    "with tf.Session(graph=graph) as session:\n",
    "\n",
    "    tf.initialize_all_variables().run()\n",
    "\n",
    "    print('Initialized')\n",
    "    for step in range(num_steps):\n",
    "        offset = (step * batch_size) % (train_labels.shape[0] - batch_size)\n",
    "        batch_data = train_dataset[offset:(offset + batch_size), :, :, :]\n",
    "        batch_labels = train_labels[offset:(offset + batch_size),:]\n",
    "        feed_dict = {tf_train_dataset : batch_data, tf_train_labels : batch_labels}\n",
    "        _, l, predictions = session.run([optimizer, loss, train_prediction], feed_dict=feed_dict)\n",
    "    \n",
    "        if (step % 500 == 0): \n",
    "\n",
    "            print('Minibatch loss at step %d: %f' % (step, l))\n",
    "            print('Minibatch accuracy: %.1f%%' % accuracy(predictions, batch_labels[:,1:6]))\n",
    "            print('Validation accuracy: %.1f%%' % accuracy(valid_prediction.eval(), valid_labels[:,1:6]))\n",
    "            \n",
    "    print('Test accuracy: %.1f%%' % accuracy(test_prediction.eval(), test_labels[:,1:6]))\n",
    "    saved = saver.save(session, save_path)\n",
    "    print(\"Model saved in file: %s\" % saved)\n",
    "    "
   ]
  },
  {
   "cell_type": "code",
   "execution_count": null,
   "metadata": {
    "collapsed": false
   },
   "outputs": [],
   "source": [
    "save_path = \"SVHN_MODEL.ckpt\"\n",
    "\n",
    "with tf.Session(graph=graph) as session:\n",
    "    saver.restore(session, \"SVHN_MODEL.ckpt\")\n",
    "    predict_prediction = session.run(valid_prediction, feed_dict={tf_train_dataset: train_dataset[:batch_size]})\n",
    "    print(predict_prediction)[]"
   ]
  }
 ],
 "metadata": {
  "anaconda-cloud": {},
  "kernelspec": {
   "display_name": "Python 2",
   "language": "python",
   "name": "python2"
  },
  "language_info": {
   "codemirror_mode": {
    "name": "ipython",
    "version": 2
   },
   "file_extension": ".py",
   "mimetype": "text/x-python",
   "name": "python",
   "nbconvert_exporter": "python",
   "pygments_lexer": "ipython2",
   "version": "2.7.11"
  }
 },
 "nbformat": 4,
 "nbformat_minor": 0
}
