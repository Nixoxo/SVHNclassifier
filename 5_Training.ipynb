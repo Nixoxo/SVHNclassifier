{
 "cells": [
  {
   "cell_type": "code",
   "execution_count": 59,
   "metadata": {
    "collapsed": false
   },
   "outputs": [],
   "source": [
    "import numpy as np\n",
    "from six.moves import cPickle as pickle\n",
    "import tensorflow as tf\n",
    "\n",
    "pixels_height = 32\n",
    "pixels_width = 32\n",
    "num_labels = 11\n",
    "num_channels = 1 #grayscale"
   ]
  },
  {
   "cell_type": "code",
   "execution_count": 60,
   "metadata": {
    "collapsed": false
   },
   "outputs": [],
   "source": [
    "def getDataAndLabel(dataset):\n",
    "    return dataset['data'], dataset['label']\n",
    "\n",
    "pickleFile = open('tensorflow_data.pickle', 'r')\n",
    "tensorflowData = pickle.load(pickleFile)\n",
    "train_X, train_labels = getDataAndLabel(tensorflowData['train'])\n",
    "test_X, test_labels = getDataAndLabel(tensorflowData['test'])\n",
    "valid_X, valid_labels = getDataAndLabel(tensorflowData['valid'])\n",
    "predict_X, predict_labels = getDataAndLabel(tensorflowData['predict'])\n"
   ]
  },
  {
   "cell_type": "code",
   "execution_count": 61,
   "metadata": {
    "collapsed": false
   },
   "outputs": [
    {
     "name": "stdout",
     "output_type": "stream",
     "text": [
      "33402\n",
      "13068\n",
      "15000\n"
     ]
    }
   ],
   "source": [
    "print(len(train_X))\n",
    "print(len(test_X))\n",
    "print(len(valid_X))"
   ]
  },
  {
   "cell_type": "code",
   "execution_count": 62,
   "metadata": {
    "collapsed": false
   },
   "outputs": [
    {
     "name": "stdout",
     "output_type": "stream",
     "text": [
      "('Training set', (33402, 32, 32, 1), (33402, 6))\n",
      "('Validation set', (15000, 32, 32, 1), (15000, 6))\n",
      "('Test set', (13068, 32, 32, 1), (13068, 6))\n"
     ]
    }
   ],
   "source": [
    "def reformatData(X):\n",
    "    return X.reshape(-1, pixels_width, pixels_height, num_channels).astype(np.float32)\n",
    "   \n",
    "\n",
    "train_dataset = reformatData(train_X)\n",
    "valid_dataset = reformatData(valid_X)\n",
    "test_dataset = reformatData(test_X)\n",
    "predict_dataset = reformatData(predict_X)\n",
    "print('Training set', train_dataset.shape, train_labels.shape)\n",
    "print('Validation set', valid_dataset.shape, valid_labels.shape)\n",
    "print('Test set', test_dataset.shape, test_labels.shape)"
   ]
  },
  {
   "cell_type": "code",
   "execution_count": 63,
   "metadata": {
    "collapsed": false
   },
   "outputs": [],
   "source": [
    "batch_size = 64\n",
    "patch_size = 5\n",
    "\n",
    "depth_1 = 32\n",
    "depth_2 = 64\n",
    "depth_3 = 96\n",
    "num_hidden = 128"
   ]
  },
  {
   "cell_type": "code",
   "execution_count": 64,
   "metadata": {
    "collapsed": true
   },
   "outputs": [],
   "source": [
    "def accuracy(predictions, labels):\n",
    "    return (100.0 * np.sum(np.argmax(predictions, 2).T == labels) / predictions.shape[1] / predictions.shape[0])"
   ]
  },
  {
   "cell_type": "code",
   "execution_count": 65,
   "metadata": {
    "collapsed": false
   },
   "outputs": [
    {
     "data": {
      "text/plain": [
       "4096"
      ]
     },
     "execution_count": 65,
     "metadata": {},
     "output_type": "execute_result"
    }
   ],
   "source": [
    "pixels_width // 4 * pixels_height // 4 * 64"
   ]
  },
  {
   "cell_type": "code",
   "execution_count": 94,
   "metadata": {
    "collapsed": false
   },
   "outputs": [
    {
     "name": "stdout",
     "output_type": "stream",
     "text": [
      "Tensor(\"pack:0\", shape=(5, 64, 11), dtype=float32)\n"
     ]
    }
   ],
   "source": [
    "graph = tf.Graph()\n",
    "with graph.as_default():\n",
    "    # Input data\n",
    "    # Load training, testing and validation data into constants that\n",
    "    # are attached to the graph\n",
    "    tf_train_dataset = tf.placeholder(tf.float32, shape=(batch_size, pixels_width, pixels_height, num_channels))\n",
    "    tf_train_labels = tf.placeholder(tf.int32, shape=(batch_size, 6))\n",
    "    \n",
    "    tf_valid_dataset = tf.constant(valid_dataset)\n",
    "    tf_test_dataset = tf.constant(test_dataset)\n",
    "        \n",
    "    #Conv1\n",
    "    layer1_weights = tf.Variable(tf.truncated_normal([patch_size, patch_size, num_channels, depth_1], stddev=0.1))\n",
    "    layer1_biases = tf.Variable(tf.zeros([depth_1]))\n",
    "    \n",
    "    #Conv2\n",
    "    layer2_weights = tf.Variable(tf.truncated_normal([patch_size, patch_size, pixels_width, depth_2], stddev=0.1))\n",
    "    layer2_biases = tf.Variable(tf.constant(0.1, shape=[depth_2]), dtype=tf.float32)\n",
    "    \n",
    "    #Fully connected 1\n",
    "    layer3_weights = tf.Variable(tf.truncated_normal([pixels_width // 4 * pixels_height // 4 * 64, 512], stddev=0.1, dtype=tf.float32))\n",
    "    layer3_biases = tf.Variable(tf.constant(0.1, shape=[512], dtype=tf.float32))\n",
    "    \n",
    "    #Outputs\n",
    "    #First classifer\n",
    "    cls1_weights = tf.Variable(tf.truncated_normal([512, num_labels], stddev=0.1, dtype=tf.float32))\n",
    "    cls1_biases = tf.Variable(tf.constant(0.1, shape=[num_labels], dtype=tf.float32))\n",
    "    \n",
    "    #Second classifier\n",
    "    cls2_weights = tf.Variable(tf.truncated_normal([512, num_labels], stddev=0.1, dtype=tf.float32))\n",
    "    cls2_biases = tf.Variable(tf.constant(0.1, shape=[num_labels], dtype=tf.float32))\n",
    "    \n",
    "    #Third classifier\n",
    "    cls3_weights = tf.Variable(tf.truncated_normal([512, num_labels], stddev=0.1, dtype=tf.float32))\n",
    "    cls3_biases = tf.Variable(tf.constant(0.1, shape=[num_labels], dtype=tf.float32))\n",
    "    \n",
    "    #4th classifier\n",
    "    cls4_weights = tf.Variable(tf.truncated_normal([512, num_labels], stddev=0.1, dtype=tf.float32))\n",
    "    cls4_biases = tf.Variable(tf.constant(0.1, shape=[num_labels], dtype=tf.float32))\n",
    "    \n",
    "    #5th classifier\n",
    "    cls5_weights = tf.Variable(tf.truncated_normal([512, num_labels], stddev=0.1, dtype=tf.float32))\n",
    "    cls5_biases = tf.Variable(tf.constant(0.1, shape=[num_labels], dtype=tf.float32))\n",
    "        \n",
    "    #model\n",
    "    def model(data, isTrain = False):\n",
    "        conv = tf.nn.conv2d(data, layer1_weights, strides = [1, 1, 1, 1], padding='SAME')\n",
    "        \n",
    "        relu = tf.nn.relu(conv + layer1_biases)\n",
    "        pool = tf.nn.max_pool(relu, ksize=[1, 2, 2, 1], strides=[1, 2, 2, 1], padding ='SAME')\n",
    "        \n",
    "        conv = tf.nn.conv2d(pool, layer2_weights, strides = [1, 1, 1, 1], padding='SAME')\n",
    "        relu = tf.nn.relu(conv + layer2_biases)\n",
    "        pool = tf.nn.max_pool(relu, ksize=[1, 2, 2, 1], strides=[1, 2, 2, 1], padding='SAME')\n",
    "        \n",
    "        shape = pool.get_shape().as_list()\n",
    "        \n",
    "        reshape = tf.reshape(pool, [shape[0], shape[1] * shape[2] * shape[3]])\n",
    "        hidden = tf.nn.relu(tf.matmul(reshape, layer3_weights) + layer3_biases)\n",
    "        \n",
    "        if isTrain == True:\n",
    "            hidden = tf.nn.dropout(hidden, 0.7)\n",
    "        \n",
    "        logit_cls1 = tf.matmul(hidden, cls1_weights) + cls1_biases\n",
    "        logit_cls2 = tf.matmul(hidden, cls2_weights) + cls2_biases\n",
    "        logit_cls3 = tf.matmul(hidden, cls3_weights) + cls3_biases\n",
    "        logit_cls4 = tf.matmul(hidden, cls4_weights) + cls4_biases\n",
    "        logit_cls5 = tf.matmul(hidden, cls5_weights) + cls5_biases\n",
    "        return logit_cls1, logit_cls2, logit_cls3, logit_cls4, logit_cls5\n",
    "    \n",
    "    logit_cls1, logit_cls2, logit_cls3, logit_cls4, logit_cls5 = model(tf_train_dataset, isTrain=True)\n",
    "    \n",
    "    def getLoss(logit, label):\n",
    "        return tf.reduce_mean(tf.nn.sparse_softmax_cross_entropy_with_logits(logit, label))\n",
    "    \n",
    "    loss = getLoss(logit_cls1, tf_train_labels[:,1]) + getLoss(logit_cls2, tf_train_labels[:,2]) +\\\n",
    "        getLoss(logit_cls3, tf_train_labels[:,3]) + getLoss(logit_cls4, tf_train_labels[:,4]) +\\\n",
    "        getLoss(logit_cls5, tf_train_labels[:,5])\n",
    "    \n",
    "    # Optimizer.\n",
    "    global_step = tf.Variable(0, trainable=False)\n",
    "    learning_rate = tf.train.exponential_decay(0.001, global_step, 10000, 0.9) \n",
    "    optimizer = tf.train.GradientDescentOptimizer(learning_rate).minimize(loss)\n",
    "\n",
    "    # Prediction for training\n",
    "    train_prediction = tf.pack([tf.nn.softmax(logit_cls1),\n",
    "                                tf.nn.softmax(logit_cls2),\n",
    "                                tf.nn.softmax(logit_cls3), \n",
    "                                tf.nn.softmax(logit_cls4), \n",
    "                                tf.nn.softmax(logit_cls5)])\n",
    "\n",
    "    # Prediction for valid\n",
    "    v_logit_cls1, v_logit_cls2, v_logit_cls3, v_logit_cls4, v_logit_cls5 = model(tf_valid_dataset)\n",
    "    valid_prediction = tf.pack([tf.nn.softmax(v_logit_cls1),\n",
    "                                tf.nn.softmax(v_logit_cls2),\n",
    "                                tf.nn.softmax(v_logit_cls3),\n",
    "                                tf.nn.softmax(v_logit_cls4),\n",
    "                                tf.nn.softmax(v_logit_cls5)])\n",
    "    # Prediction for test\n",
    "    t_logit_cls1, t_logit_cls2, t_logit_cls3, t_logit_cls4, t_logit_cls5 = model(tf_test_dataset)\n",
    "    test_prediction = tf.pack([tf.nn.softmax(t_logit_cls1), \n",
    "                               tf.nn.softmax(t_logit_cls2), \n",
    "                               tf.nn.softmax(t_logit_cls3), \n",
    "                               tf.nn.softmax(t_logit_cls4), \n",
    "                               tf.nn.softmax(t_logit_cls5)])    \n",
    "    \n",
    "    # Init saver\n",
    "    saver = tf.train.Saver()\n",
    "    print(train_prediction)\n",
    "    "
   ]
  },
  {
   "cell_type": "code",
   "execution_count": 95,
   "metadata": {
    "collapsed": false
   },
   "outputs": [
    {
     "name": "stdout",
     "output_type": "stream",
     "text": [
      "Initialized\n",
      "Minibatch loss at step 0: 24.816051\n",
      "Minibatch accuracy: 8.1%\n"
     ]
    },
    {
     "ename": "KeyboardInterrupt",
     "evalue": "",
     "output_type": "error",
     "traceback": [
      "\u001b[0;31m---------------------------------------------------------------------------\u001b[0m",
      "\u001b[0;31mKeyboardInterrupt\u001b[0m                         Traceback (most recent call last)",
      "\u001b[0;32m<ipython-input-95-f1b3c8a1d288>\u001b[0m in \u001b[0;36m<module>\u001b[0;34m()\u001b[0m\n\u001b[1;32m     18\u001b[0m             \u001b[0;32mprint\u001b[0m\u001b[0;34m(\u001b[0m\u001b[0;34m'Minibatch loss at step %d: %f'\u001b[0m \u001b[0;34m%\u001b[0m \u001b[0;34m(\u001b[0m\u001b[0mstep\u001b[0m\u001b[0;34m,\u001b[0m \u001b[0ml\u001b[0m\u001b[0;34m)\u001b[0m\u001b[0;34m)\u001b[0m\u001b[0;34m\u001b[0m\u001b[0m\n\u001b[1;32m     19\u001b[0m             \u001b[0;32mprint\u001b[0m\u001b[0;34m(\u001b[0m\u001b[0;34m'Minibatch accuracy: %.1f%%'\u001b[0m \u001b[0;34m%\u001b[0m \u001b[0maccuracy\u001b[0m\u001b[0;34m(\u001b[0m\u001b[0mpredictions\u001b[0m\u001b[0;34m,\u001b[0m \u001b[0mbatch_labels\u001b[0m\u001b[0;34m[\u001b[0m\u001b[0;34m:\u001b[0m\u001b[0;34m,\u001b[0m\u001b[0;36m1\u001b[0m\u001b[0;34m:\u001b[0m\u001b[0;36m6\u001b[0m\u001b[0;34m]\u001b[0m\u001b[0;34m)\u001b[0m\u001b[0;34m)\u001b[0m\u001b[0;34m\u001b[0m\u001b[0m\n\u001b[0;32m---> 20\u001b[0;31m             \u001b[0;32mprint\u001b[0m\u001b[0;34m(\u001b[0m\u001b[0;34m'Validation accuracy: %.1f%%'\u001b[0m \u001b[0;34m%\u001b[0m \u001b[0maccuracy\u001b[0m\u001b[0;34m(\u001b[0m\u001b[0mvalid_prediction\u001b[0m\u001b[0;34m.\u001b[0m\u001b[0meval\u001b[0m\u001b[0;34m(\u001b[0m\u001b[0;34m)\u001b[0m\u001b[0;34m,\u001b[0m \u001b[0mvalid_labels\u001b[0m\u001b[0;34m[\u001b[0m\u001b[0;34m:\u001b[0m\u001b[0;34m,\u001b[0m\u001b[0;36m1\u001b[0m\u001b[0;34m:\u001b[0m\u001b[0;36m6\u001b[0m\u001b[0;34m]\u001b[0m\u001b[0;34m)\u001b[0m\u001b[0;34m)\u001b[0m\u001b[0;34m\u001b[0m\u001b[0m\n\u001b[0m\u001b[1;32m     21\u001b[0m             \u001b[0;32mprint\u001b[0m\u001b[0;34m(\u001b[0m\u001b[0mpredictions\u001b[0m\u001b[0;34m)\u001b[0m\u001b[0;34m\u001b[0m\u001b[0m\n\u001b[1;32m     22\u001b[0m             \u001b[0;32mbreak\u001b[0m\u001b[0;34m\u001b[0m\u001b[0m\n",
      "\u001b[0;32m/usr/local/lib/python2.7/site-packages/tensorflow/python/framework/ops.pyc\u001b[0m in \u001b[0;36meval\u001b[0;34m(self, feed_dict, session)\u001b[0m\n\u001b[1;32m    554\u001b[0m \u001b[0;34m\u001b[0m\u001b[0m\n\u001b[1;32m    555\u001b[0m     \"\"\"\n\u001b[0;32m--> 556\u001b[0;31m     \u001b[0;32mreturn\u001b[0m \u001b[0m_eval_using_default_session\u001b[0m\u001b[0;34m(\u001b[0m\u001b[0mself\u001b[0m\u001b[0;34m,\u001b[0m \u001b[0mfeed_dict\u001b[0m\u001b[0;34m,\u001b[0m \u001b[0mself\u001b[0m\u001b[0;34m.\u001b[0m\u001b[0mgraph\u001b[0m\u001b[0;34m,\u001b[0m \u001b[0msession\u001b[0m\u001b[0;34m)\u001b[0m\u001b[0;34m\u001b[0m\u001b[0m\n\u001b[0m\u001b[1;32m    557\u001b[0m \u001b[0;34m\u001b[0m\u001b[0m\n\u001b[1;32m    558\u001b[0m \u001b[0;34m\u001b[0m\u001b[0m\n",
      "\u001b[0;32m/usr/local/lib/python2.7/site-packages/tensorflow/python/framework/ops.pyc\u001b[0m in \u001b[0;36m_eval_using_default_session\u001b[0;34m(tensors, feed_dict, graph, session)\u001b[0m\n\u001b[1;32m   3647\u001b[0m                        \u001b[0;34m\"the tensor's graph is different from the session's \"\u001b[0m\u001b[0;34m\u001b[0m\u001b[0m\n\u001b[1;32m   3648\u001b[0m                        \"graph.\")\n\u001b[0;32m-> 3649\u001b[0;31m   \u001b[0;32mreturn\u001b[0m \u001b[0msession\u001b[0m\u001b[0;34m.\u001b[0m\u001b[0mrun\u001b[0m\u001b[0;34m(\u001b[0m\u001b[0mtensors\u001b[0m\u001b[0;34m,\u001b[0m \u001b[0mfeed_dict\u001b[0m\u001b[0;34m)\u001b[0m\u001b[0;34m\u001b[0m\u001b[0m\n\u001b[0m\u001b[1;32m   3650\u001b[0m \u001b[0;34m\u001b[0m\u001b[0m\n\u001b[1;32m   3651\u001b[0m \u001b[0;34m\u001b[0m\u001b[0m\n",
      "\u001b[0;32m/usr/local/lib/python2.7/site-packages/tensorflow/python/client/session.pyc\u001b[0m in \u001b[0;36mrun\u001b[0;34m(self, fetches, feed_dict, options, run_metadata)\u001b[0m\n\u001b[1;32m    380\u001b[0m     \u001b[0;32mtry\u001b[0m\u001b[0;34m:\u001b[0m\u001b[0;34m\u001b[0m\u001b[0m\n\u001b[1;32m    381\u001b[0m       result = self._run(None, fetches, feed_dict, options_ptr,\n\u001b[0;32m--> 382\u001b[0;31m                          run_metadata_ptr)\n\u001b[0m\u001b[1;32m    383\u001b[0m       \u001b[0;32mif\u001b[0m \u001b[0mrun_metadata\u001b[0m\u001b[0;34m:\u001b[0m\u001b[0;34m\u001b[0m\u001b[0m\n\u001b[1;32m    384\u001b[0m         \u001b[0mproto_data\u001b[0m \u001b[0;34m=\u001b[0m \u001b[0mtf_session\u001b[0m\u001b[0;34m.\u001b[0m\u001b[0mTF_GetBuffer\u001b[0m\u001b[0;34m(\u001b[0m\u001b[0mrun_metadata_ptr\u001b[0m\u001b[0;34m)\u001b[0m\u001b[0;34m\u001b[0m\u001b[0m\n",
      "\u001b[0;32m/usr/local/lib/python2.7/site-packages/tensorflow/python/client/session.pyc\u001b[0m in \u001b[0;36m_run\u001b[0;34m(self, handle, fetches, feed_dict, options, run_metadata)\u001b[0m\n\u001b[1;32m    653\u001b[0m     \u001b[0mmovers\u001b[0m \u001b[0;34m=\u001b[0m \u001b[0mself\u001b[0m\u001b[0;34m.\u001b[0m\u001b[0m_update_with_movers\u001b[0m\u001b[0;34m(\u001b[0m\u001b[0mfeed_dict_string\u001b[0m\u001b[0;34m,\u001b[0m \u001b[0mfeed_map\u001b[0m\u001b[0;34m)\u001b[0m\u001b[0;34m\u001b[0m\u001b[0m\n\u001b[1;32m    654\u001b[0m     results = self._do_run(handle, target_list, unique_fetches,\n\u001b[0;32m--> 655\u001b[0;31m                            feed_dict_string, options, run_metadata)\n\u001b[0m\u001b[1;32m    656\u001b[0m \u001b[0;34m\u001b[0m\u001b[0m\n\u001b[1;32m    657\u001b[0m     \u001b[0;31m# User may have fetched the same tensor multiple times, but we\u001b[0m\u001b[0;34m\u001b[0m\u001b[0;34m\u001b[0m\u001b[0m\n",
      "\u001b[0;32m/usr/local/lib/python2.7/site-packages/tensorflow/python/client/session.pyc\u001b[0m in \u001b[0;36m_do_run\u001b[0;34m(self, handle, target_list, fetch_list, feed_dict, options, run_metadata)\u001b[0m\n\u001b[1;32m    721\u001b[0m     \u001b[0;32mif\u001b[0m \u001b[0mhandle\u001b[0m \u001b[0;32mis\u001b[0m \u001b[0mNone\u001b[0m\u001b[0;34m:\u001b[0m\u001b[0;34m\u001b[0m\u001b[0m\n\u001b[1;32m    722\u001b[0m       return self._do_call(_run_fn, self._session, feed_dict, fetch_list,\n\u001b[0;32m--> 723\u001b[0;31m                            target_list, options, run_metadata)\n\u001b[0m\u001b[1;32m    724\u001b[0m     \u001b[0;32melse\u001b[0m\u001b[0;34m:\u001b[0m\u001b[0;34m\u001b[0m\u001b[0m\n\u001b[1;32m    725\u001b[0m       return self._do_call(_prun_fn, self._session, handle, feed_dict,\n",
      "\u001b[0;32m/usr/local/lib/python2.7/site-packages/tensorflow/python/client/session.pyc\u001b[0m in \u001b[0;36m_do_call\u001b[0;34m(self, fn, *args)\u001b[0m\n\u001b[1;32m    728\u001b[0m   \u001b[0;32mdef\u001b[0m \u001b[0m_do_call\u001b[0m\u001b[0;34m(\u001b[0m\u001b[0mself\u001b[0m\u001b[0;34m,\u001b[0m \u001b[0mfn\u001b[0m\u001b[0;34m,\u001b[0m \u001b[0;34m*\u001b[0m\u001b[0margs\u001b[0m\u001b[0;34m)\u001b[0m\u001b[0;34m:\u001b[0m\u001b[0;34m\u001b[0m\u001b[0m\n\u001b[1;32m    729\u001b[0m     \u001b[0;32mtry\u001b[0m\u001b[0;34m:\u001b[0m\u001b[0;34m\u001b[0m\u001b[0m\n\u001b[0;32m--> 730\u001b[0;31m       \u001b[0;32mreturn\u001b[0m \u001b[0mfn\u001b[0m\u001b[0;34m(\u001b[0m\u001b[0;34m*\u001b[0m\u001b[0margs\u001b[0m\u001b[0;34m)\u001b[0m\u001b[0;34m\u001b[0m\u001b[0m\n\u001b[0m\u001b[1;32m    731\u001b[0m     \u001b[0;32mexcept\u001b[0m \u001b[0merrors\u001b[0m\u001b[0;34m.\u001b[0m\u001b[0mOpError\u001b[0m \u001b[0;32mas\u001b[0m \u001b[0me\u001b[0m\u001b[0;34m:\u001b[0m\u001b[0;34m\u001b[0m\u001b[0m\n\u001b[1;32m    732\u001b[0m       \u001b[0mmessage\u001b[0m \u001b[0;34m=\u001b[0m \u001b[0mcompat\u001b[0m\u001b[0;34m.\u001b[0m\u001b[0mas_text\u001b[0m\u001b[0;34m(\u001b[0m\u001b[0me\u001b[0m\u001b[0;34m.\u001b[0m\u001b[0mmessage\u001b[0m\u001b[0;34m)\u001b[0m\u001b[0;34m\u001b[0m\u001b[0m\n",
      "\u001b[0;32m/usr/local/lib/python2.7/site-packages/tensorflow/python/client/session.pyc\u001b[0m in \u001b[0;36m_run_fn\u001b[0;34m(session, feed_dict, fetch_list, target_list, options, run_metadata)\u001b[0m\n\u001b[1;32m    710\u001b[0m         return tf_session.TF_Run(session, options,\n\u001b[1;32m    711\u001b[0m                                  \u001b[0mfeed_dict\u001b[0m\u001b[0;34m,\u001b[0m \u001b[0mfetch_list\u001b[0m\u001b[0;34m,\u001b[0m \u001b[0mtarget_list\u001b[0m\u001b[0;34m,\u001b[0m\u001b[0;34m\u001b[0m\u001b[0m\n\u001b[0;32m--> 712\u001b[0;31m                                  status, run_metadata)\n\u001b[0m\u001b[1;32m    713\u001b[0m \u001b[0;34m\u001b[0m\u001b[0m\n\u001b[1;32m    714\u001b[0m     \u001b[0;32mdef\u001b[0m \u001b[0m_prun_fn\u001b[0m\u001b[0;34m(\u001b[0m\u001b[0msession\u001b[0m\u001b[0;34m,\u001b[0m \u001b[0mhandle\u001b[0m\u001b[0;34m,\u001b[0m \u001b[0mfeed_dict\u001b[0m\u001b[0;34m,\u001b[0m \u001b[0mfetch_list\u001b[0m\u001b[0;34m)\u001b[0m\u001b[0;34m:\u001b[0m\u001b[0;34m\u001b[0m\u001b[0m\n",
      "\u001b[0;31mKeyboardInterrupt\u001b[0m: "
     ]
    }
   ],
   "source": [
    "save_path = \"SVHN_MODEL.ckpt\"\n",
    "num_steps = 10000\n",
    "\n",
    "with tf.Session(graph=graph) as session:\n",
    "\n",
    "    tf.initialize_all_variables().run()\n",
    "\n",
    "    print('Initialized')\n",
    "    for step in range(num_steps):\n",
    "        offset = (step * batch_size) % (train_labels.shape[0] - batch_size)\n",
    "        batch_data = train_dataset[offset:(offset + batch_size), :, :, :]\n",
    "        batch_labels = train_labels[offset:(offset + batch_size),:]\n",
    "        feed_dict = {tf_train_dataset : batch_data, tf_train_labels : batch_labels}\n",
    "        _, l, predictions = session.run([optimizer, loss, train_prediction], feed_dict=feed_dict)\n",
    "    \n",
    "        if (step % 500 == 0): \n",
    "\n",
    "            print('Minibatch loss at step %d: %f' % (step, l))\n",
    "            print('Minibatch accuracy: %.1f%%' % accuracy(predictions, batch_labels[:,1:6]))\n",
    "            print('Validation accuracy: %.1f%%' % accuracy(valid_prediction.eval(), valid_labels[:,1:6]))\n",
    "            print(predictions)\n",
    "            break\n",
    "            \n",
    "    print('Test accuracy: %.1f%%' % accuracy(test_prediction.eval(), test_labels[:,1:6]))\n",
    "    saved = saver.save(session, save_path)\n",
    "    print(\"Model saved in file: %s\" % saved)\n",
    "    "
   ]
  },
  {
   "cell_type": "code",
   "execution_count": 93,
   "metadata": {
    "collapsed": false
   },
   "outputs": [
    {
     "name": "stdout",
     "output_type": "stream",
     "text": [
      "[[[  1.00263875e-04   5.65894833e-03   1.95526220e-02 ...,   2.67071021e-03\n",
      "     8.65365437e-04   9.67706919e-01]\n",
      "  [  1.31708017e-04   2.66676815e-03   9.53477994e-03 ...,   2.03006323e-02\n",
      "     1.27777030e-05   9.31595981e-01]\n",
      "  [  7.52819833e-05   4.52948269e-03   1.50673511e-03 ...,   3.94406170e-03\n",
      "     8.02033173e-05   9.78980660e-01]\n",
      "  ..., \n",
      "  [  3.81913758e-03   3.83738689e-02   7.20241526e-03 ...,   9.87094715e-02\n",
      "     7.84072268e-04   6.10554099e-01]\n",
      "  [  4.16698225e-04   1.23919714e-02   2.95306114e-03 ...,   6.21781033e-03\n",
      "     1.04614859e-03   9.71646488e-01]\n",
      "  [  1.16109470e-04   8.70383158e-03   1.88543685e-02 ...,   3.65398242e-03\n",
      "     1.20819069e-03   9.59482729e-01]]\n",
      "\n",
      " [[  1.00263875e-04   5.65894833e-03   1.95526220e-02 ...,   2.67071021e-03\n",
      "     8.65365437e-04   9.67706919e-01]\n",
      "  [  1.31708017e-04   2.66676815e-03   9.53477994e-03 ...,   2.03006323e-02\n",
      "     1.27777030e-05   9.31595981e-01]\n",
      "  [  7.52819833e-05   4.52948269e-03   1.50673511e-03 ...,   3.94406170e-03\n",
      "     8.02033173e-05   9.78980660e-01]\n",
      "  ..., \n",
      "  [  3.81913758e-03   3.83738689e-02   7.20241526e-03 ...,   9.87094715e-02\n",
      "     7.84072268e-04   6.10554099e-01]\n",
      "  [  4.16698225e-04   1.23919714e-02   2.95306114e-03 ...,   6.21781033e-03\n",
      "     1.04614859e-03   9.71646488e-01]\n",
      "  [  1.16109470e-04   8.70383158e-03   1.88543685e-02 ...,   3.65398242e-03\n",
      "     1.20819069e-03   9.59482729e-01]]\n",
      "\n",
      " [[  1.00263875e-04   5.65894833e-03   1.95526220e-02 ...,   2.67071021e-03\n",
      "     8.65365437e-04   9.67706919e-01]\n",
      "  [  1.31708017e-04   2.66676815e-03   9.53477994e-03 ...,   2.03006323e-02\n",
      "     1.27777030e-05   9.31595981e-01]\n",
      "  [  7.52819833e-05   4.52948269e-03   1.50673511e-03 ...,   3.94406170e-03\n",
      "     8.02033173e-05   9.78980660e-01]\n",
      "  ..., \n",
      "  [  3.81913758e-03   3.83738689e-02   7.20241526e-03 ...,   9.87094715e-02\n",
      "     7.84072268e-04   6.10554099e-01]\n",
      "  [  4.16698225e-04   1.23919714e-02   2.95306114e-03 ...,   6.21781033e-03\n",
      "     1.04614859e-03   9.71646488e-01]\n",
      "  [  1.16109470e-04   8.70383158e-03   1.88543685e-02 ...,   3.65398242e-03\n",
      "     1.20819069e-03   9.59482729e-01]]\n",
      "\n",
      " [[  1.00263875e-04   5.65894833e-03   1.95526220e-02 ...,   2.67071021e-03\n",
      "     8.65365437e-04   9.67706919e-01]\n",
      "  [  1.31708017e-04   2.66676815e-03   9.53477994e-03 ...,   2.03006323e-02\n",
      "     1.27777030e-05   9.31595981e-01]\n",
      "  [  7.52819833e-05   4.52948269e-03   1.50673511e-03 ...,   3.94406170e-03\n",
      "     8.02033173e-05   9.78980660e-01]\n",
      "  ..., \n",
      "  [  3.81913758e-03   3.83738689e-02   7.20241526e-03 ...,   9.87094715e-02\n",
      "     7.84072268e-04   6.10554099e-01]\n",
      "  [  4.16698225e-04   1.23919714e-02   2.95306114e-03 ...,   6.21781033e-03\n",
      "     1.04614859e-03   9.71646488e-01]\n",
      "  [  1.16109470e-04   8.70383158e-03   1.88543685e-02 ...,   3.65398242e-03\n",
      "     1.20819069e-03   9.59482729e-01]]\n",
      "\n",
      " [[  1.00263875e-04   5.65894833e-03   1.95526220e-02 ...,   2.67071021e-03\n",
      "     8.65365437e-04   9.67706919e-01]\n",
      "  [  1.31708017e-04   2.66676815e-03   9.53477994e-03 ...,   2.03006323e-02\n",
      "     1.27777030e-05   9.31595981e-01]\n",
      "  [  7.52819833e-05   4.52948269e-03   1.50673511e-03 ...,   3.94406170e-03\n",
      "     8.02033173e-05   9.78980660e-01]\n",
      "  ..., \n",
      "  [  3.81913758e-03   3.83738689e-02   7.20241526e-03 ...,   9.87094715e-02\n",
      "     7.84072268e-04   6.10554099e-01]\n",
      "  [  4.16698225e-04   1.23919714e-02   2.95306114e-03 ...,   6.21781033e-03\n",
      "     1.04614859e-03   9.71646488e-01]\n",
      "  [  1.16109470e-04   8.70383158e-03   1.88543685e-02 ...,   3.65398242e-03\n",
      "     1.20819069e-03   9.59482729e-01]]]\n"
     ]
    }
   ],
   "source": [
    "save_path = \"SVHN_MODEL.ckpt\"\n",
    "\n",
    "with tf.Session(graph=graph) as session:\n",
    "    saver.restore(session, \"SVHN_MODEL.ckpt\")\n",
    "    predict_prediction = session.run(valid_prediction, feed_dict={tf_train_dataset: train_dataset[:batch_size]})\n",
    "    print(predict_prediction)[]"
   ]
  }
 ],
 "metadata": {
  "kernelspec": {
   "display_name": "Python 2",
   "language": "python",
   "name": "python2"
  },
  "language_info": {
   "codemirror_mode": {
    "name": "ipython",
    "version": 2
   },
   "file_extension": ".py",
   "mimetype": "text/x-python",
   "name": "python",
   "nbconvert_exporter": "python",
   "pygments_lexer": "ipython2",
   "version": "2.7.11"
  }
 },
 "nbformat": 4,
 "nbformat_minor": 0
}
